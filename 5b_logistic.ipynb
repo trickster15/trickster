{
 "cells": [
  {
   "cell_type": "code",
   "execution_count": 1,
   "id": "739d3fdc-5a85-41c0-b906-281ca253e634",
   "metadata": {},
   "outputs": [],
   "source": [
    "import pandas as pd\n",
    "import numpy as np\n",
    "from sklearn.model_selection import train_test_split\n",
    "from sklearn.preprocessing import StandardScaler\n",
    "from sklearn.linear_model import LogisticRegression\n",
    "from sklearn.metrics import accuracy_score, classification_report\n"
   ]
  },
  {
   "cell_type": "code",
   "execution_count": 2,
   "id": "a9b9746b-d7c4-420b-8e44-de713a8189f2",
   "metadata": {},
   "outputs": [
    {
     "name": "stdout",
     "output_type": "stream",
     "text": [
      "    age  glucose\n",
      "0    18       75\n",
      "1    22       80\n",
      "2    25       85\n",
      "3    28       90\n",
      "4    32       95\n",
      "5    35      100\n",
      "6    40      110\n",
      "7    45      120\n",
      "8    50      130\n",
      "9    55      140\n",
      "10   60      150\n",
      "11   65      160\n",
      "12   70      170\n",
      "13   75      180\n",
      "14   80      190\n"
     ]
    }
   ],
   "source": [
    "import pandas as pd\n",
    "\n",
    "# Sample dataset with age and glucose level\n",
    "data = {\n",
    "    'age': [18, 22, 25, 28, 32, 35, 40, 45, 50, 55, 60, 65, 70, 75, 80],\n",
    "    'glucose': [75, 80, 85, 90, 95, 100, 110, 120, 130, 140, 150, 160, 170, 180, 190]\n",
    "}\n",
    "\n",
    "# Convert to DataFrame\n",
    "df = pd.DataFrame(data)\n",
    "\n",
    "# Display dataset\n",
    "print(df)\n"
   ]
  },
  {
   "cell_type": "code",
   "execution_count": 3,
   "id": "dd984707-9049-4784-99ce-c073a786ddae",
   "metadata": {},
   "outputs": [
    {
     "name": "stdout",
     "output_type": "stream",
     "text": [
      "    age  glucose  high_glucose\n",
      "0    18       75             0\n",
      "1    22       80             0\n",
      "2    25       85             0\n",
      "3    28       90             0\n",
      "4    32       95             0\n",
      "5    35      100             0\n",
      "6    40      110             0\n",
      "7    45      120             0\n",
      "8    50      130             1\n",
      "9    55      140             1\n",
      "10   60      150             1\n",
      "11   65      160             1\n",
      "12   70      170             1\n",
      "13   75      180             1\n",
      "14   80      190             1\n"
     ]
    }
   ],
   "source": [
    "# Define the threshold for high glucose (126 mg/dL)\n",
    "df['high_glucose'] = df['glucose'].apply(lambda x: 1 if x >= 126 else 0)\n",
    "\n",
    "# Display updated dataset\n",
    "print(df)"
   ]
  },
  {
   "cell_type": "code",
   "execution_count": 4,
   "id": "66df2710-ed57-4371-b0a8-f9f9c6e97c19",
   "metadata": {},
   "outputs": [
    {
     "name": "stdout",
     "output_type": "stream",
     "text": [
      "Training set: (12, 1), (12,)\n",
      "Testing set: (3, 1), (3,)\n",
      "\n",
      "Training Data:\n",
      "     age  high_glucose\n",
      "13   75             1\n",
      "5    35             0\n",
      "8    50             1\n",
      "2    25             0\n",
      "1    22             0\n",
      "14   80             1\n",
      "4    32             0\n",
      "7    45             0\n",
      "10   60             1\n",
      "12   70             1\n",
      "3    28             0\n",
      "6    40             0\n",
      "\n",
      "Testing Data:\n",
      "     age  high_glucose\n",
      "9    55             1\n",
      "11   65             1\n",
      "0    18             0\n"
     ]
    }
   ],
   "source": [
    "# Define predictor (X) and target variable (y)\n",
    "X = df[['age']]  # Predictor variable\n",
    "y = df['high_glucose']  # Target variable\n",
    "# Split dataset into training (80%) and testing (20%)\n",
    "X_train, X_test, y_train, y_test = train_test_split(X, y, test_size=0.2, random_state=42)\n",
    "\n",
    "# Display shapes of training and testing sets\n",
    "print(f\"Training set: {X_train.shape}, {y_train.shape}\")\n",
    "print(f\"Testing set: {X_test.shape}, {y_test.shape}\")\n",
    "\n",
    "# Display training and testing sets\n",
    "print(\"\\nTraining Data:\\n\", X_train.join(y_train))\n",
    "print(\"\\nTesting Data:\\n\", X_test.join(y_test))"
   ]
  },
  {
   "cell_type": "code",
   "execution_count": 5,
   "id": "95941e36-b4b7-4241-80b5-531f41173701",
   "metadata": {},
   "outputs": [
    {
     "name": "stdout",
     "output_type": "stream",
     "text": [
      "intercept: [-34.47396139]\n",
      "coefficient: [0.72541493]\n"
     ]
    }
   ],
   "source": [
    "model=LogisticRegression()\n",
    "model.fit(X_train,y_train)\n",
    "print(\"intercept:\",model.intercept_)\n",
    "print(\"coefficient:\",model.coef_[0])"
   ]
  },
  {
   "cell_type": "code",
   "execution_count": 6,
   "id": "a22a8fde-a73b-4289-b33c-3049beb4c8b6",
   "metadata": {},
   "outputs": [
    {
     "name": "stdout",
     "output_type": "stream",
     "text": [
      "Model Accuracy: 1.00\n",
      "\n",
      "Classification Report:\n",
      "               precision    recall  f1-score   support\n",
      "\n",
      "           0       1.00      1.00      1.00         1\n",
      "           1       1.00      1.00      1.00         2\n",
      "\n",
      "    accuracy                           1.00         3\n",
      "   macro avg       1.00      1.00      1.00         3\n",
      "weighted avg       1.00      1.00      1.00         3\n",
      "\n"
     ]
    }
   ],
   "source": [
    "import matplotlib.pyplot as plt \n",
    "# Train Logistic Regression Model\n",
    "model = LogisticRegression()\n",
    "model.fit(X_train, y_train)\n",
    "\n",
    "# Predictions\n",
    "y_pred = model.predict(X_test)\n",
    "\n",
    "# Model Evaluation\n",
    "accuracy = accuracy_score(y_test, y_pred)\n",
    "print(f\"Model Accuracy: {accuracy:.2f}\")\n",
    "print(\"\\nClassification Report:\\n\", classification_report(y_test, y_pred))\n",
    "\n"
   ]
  },
  {
   "cell_type": "code",
   "execution_count": 7,
   "id": "69e5e08f-a647-435c-a16c-bb4e56dbae0d",
   "metadata": {},
   "outputs": [
    {
     "name": "stderr",
     "output_type": "stream",
     "text": [
      "/home/it22a17/.local/lib/python3.10/site-packages/sklearn/utils/validation.py:2739: UserWarning: X does not have valid feature names, but LogisticRegression was fitted with feature names\n",
      "  warnings.warn(\n"
     ]
    },
    {
     "data": {
      "image/png": "[encoded data removed]",
      "text/plain": [
       "<Figure size 800x500 with 1 Axes>"
      ]
     },
     "metadata": {},
     "output_type": "display_data"
    }
   ],
   "source": [
    "# Generate age values for probability curve\n",
    "age_range = np.linspace(df['age'].min(), df['age'].max(), 100).reshape(-1, 1)\n",
    "probabilities = model.predict_proba(age_range)[:, 1]  # Probability of high glucose (1)\n",
    "\n",
    "# Plot Probability Curve\n",
    "plt.figure(figsize=(8, 5))\n",
    "plt.scatter(df['age'], df['high_glucose'], color='blue', label='Actual Data')\n",
    "plt.plot(age_range, probabilities, color='red', linewidth=2, label='Logistic Regression Probability')\n",
    "\n",
    "# Labels and Title\n",
    "plt.xlabel(\"Age\")\n",
    "plt.ylabel(\"Probability of High Glucose\")\n",
    "plt.title(\"Logistic Regression: Probability of High Glucose vs Age\")\n",
    "plt.legend()\n",
    "plt.grid(True)\n",
    "plt.show()"
   ]
  },
  {
   "cell_type": "code",
   "execution_count": null,
   "id": "d3ba3700-c2c7-4d8e-bddf-8965677142af",
   "metadata": {},
   "outputs": [],
   "source": []
  }
 ],
 "metadata": {
  "kernelspec": {
   "display_name": "Python 3 (ipykernel)",
   "language": "python",
   "name": "python3"
  },
  "language_info": {
   "codemirror_mode": {
    "name": "ipython",
    "version": 3
   },
   "file_extension": ".py",
   "mimetype": "text/x-python",
   "name": "python",
   "nbconvert_exporter": "python",
   "pygments_lexer": "ipython3",
   "version": "3.10.12"
  }
 },
 "nbformat": 4,
 "nbformat_minor": 5
}
