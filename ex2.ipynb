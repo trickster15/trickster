{
  "nbformat": 4,
  "nbformat_minor": 0,
  "metadata": {
    "colab": {
      "provenance": []
    },
    "kernelspec": {
      "name": "python3",
      "display_name": "Python 3"
    },
    "language_info": {
      "name": "python"
    }
  },
  "cells": [
    {
      "cell_type": "code",
      "source": [
        "import pandas as pd\n",
        "import numpy as np\n",
        "\n",
        "data = {\n",
        "    \"Model\": [\"Civic\", \"Corolla\", \"Mustang\", \"Model 3\", \"Altima\", \"Camry\", \"Accord\"],\n",
        "    \"Make\": [\"Honda\", \"Toyota\", \"Ford\", \"Tesla\", \"Nissan\", \"Toyota\", \"Honda\"],\n",
        "    \"Price\": [22000, 21000, 35000, np.nan, 24000, 27000, np.nan],\n",
        "    \"Mileage\": [30, 32, np.nan, 120, 28, 29, np.nan],\n",
        "    \"Year\": [2020, 2019, 2021, 2022, np.nan, 2020, 2021],\n",
        "    \"Color\": [\"Blue\", \"Red\", \"Black\", \"White\", \"Gray\", np.nan, \"Silver\"]\n",
        "}\n",
        "\n",
        "df = pd.DataFrame(data)\n",
        "print(df.head())\n",
        "\n",
        "df[\"Price\"] = df[\"Price\"].fillna(df[\"Price\"].median())\n",
        "df[\"Mileage\"] = df[\"Mileage\"].fillna(df[\"Mileage\"].mean())\n",
        "df[\"Year\"] = df[\"Year\"].fillna(df[\"Year\"].mode()[0])\n",
        "df[\"Color\"] = df[\"Color\"].fillna(\"Unknown\")\n",
        "print(df)\n",
        "# df.isnull().sum()\n",
        "# print(\"\\n\")\n",
        "# print(df)\n"
      ],
      "metadata": {
        "colab": {
          "base_uri": "https://localhost:8080/"
        },
        "id": "hEKI3PWKoAap",
        "outputId": "77cd83c2-4be9-46e5-ae36-3432b999d1b9"
      },
      "execution_count": null,
      "outputs": [
        {
          "output_type": "stream",
          "name": "stdout",
          "text": [
            "     Model    Make    Price  Mileage    Year  Color\n",
            "0    Civic   Honda  22000.0     30.0  2020.0   Blue\n",
            "1  Corolla  Toyota  21000.0     32.0  2019.0    Red\n",
            "2  Mustang    Ford  35000.0      NaN  2021.0  Black\n",
            "3  Model 3   Tesla      NaN    120.0  2022.0  White\n",
            "4   Altima  Nissan  24000.0     28.0     NaN   Gray\n",
            "     Model    Make    Price  Mileage    Year    Color\n",
            "0    Civic   Honda  22000.0     30.0  2020.0     Blue\n",
            "1  Corolla  Toyota  21000.0     32.0  2019.0      Red\n",
            "2  Mustang    Ford  35000.0     47.8  2021.0    Black\n",
            "3  Model 3   Tesla  24000.0    120.0  2022.0    White\n",
            "4   Altima  Nissan  24000.0     28.0  2020.0     Gray\n",
            "5    Camry  Toyota  27000.0     29.0  2020.0  Unknown\n",
            "6   Accord   Honda  24000.0     47.8  2021.0   Silver\n"
          ]
        }
      ]
    },
    {
      "cell_type": "code",
      "source": [
        "df.isnull().sum()"
      ],
      "metadata": {
        "colab": {
          "base_uri": "https://localhost:8080/",
          "height": 272
        },
        "id": "_34FzJg7pqo8",
        "outputId": "6cb66bea-fb8d-4e0f-ec57-7d878ed920bb"
      },
      "execution_count": null,
      "outputs": [
        {
          "output_type": "execute_result",
          "data": {
            "text/plain": [
              "Model      0\n",
              "Make       0\n",
              "Price      0\n",
              "Mileage    0\n",
              "Year       0\n",
              "Color      0\n",
              "dtype: int64"
            ],
            "text/html": [
              "<div>\n",
              "<style scoped>\n",
              "    .dataframe tbody tr th:only-of-type {\n",
              "        vertical-align: middle;\n",
              "    }\n",
              "\n",
              "    .dataframe tbody tr th {\n",
              "        vertical-align: top;\n",
              "    }\n",
              "\n",
              "    .dataframe thead th {\n",
              "        text-align: right;\n",
              "    }\n",
              "</style>\n",
              "<table border=\"1\" class=\"dataframe\">\n",
              "  <thead>\n",
              "    <tr style=\"text-align: right;\">\n",
              "      <th></th>\n",
              "      <th>0</th>\n",
              "    </tr>\n",
              "  </thead>\n",
              "  <tbody>\n",
              "    <tr>\n",
              "      <th>Model</th>\n",
              "      <td>0</td>\n",
              "    </tr>\n",
              "    <tr>\n",
              "      <th>Make</th>\n",
              "      <td>0</td>\n",
              "    </tr>\n",
              "    <tr>\n",
              "      <th>Price</th>\n",
              "      <td>0</td>\n",
              "    </tr>\n",
              "    <tr>\n",
              "      <th>Mileage</th>\n",
              "      <td>0</td>\n",
              "    </tr>\n",
              "    <tr>\n",
              "      <th>Year</th>\n",
              "      <td>0</td>\n",
              "    </tr>\n",
              "    <tr>\n",
              "      <th>Color</th>\n",
              "      <td>0</td>\n",
              "    </tr>\n",
              "  </tbody>\n",
              "</table>\n",
              "</div><br><label><b>dtype:</b> int64</label>"
            ]
          },
          "metadata": {},
          "execution_count": 50
        }
      ]
    },
    {
      "cell_type": "code",
      "source": [
        "import  matplotlib.pyplot as plt\n",
        "import seaborn as sns\n",
        "plt.figure(figsize=(10,6))\n",
        "sns.boxplot(data=df[['Price', 'Mileage', 'Year']])\n",
        "plt.title(\"outliers\")\n",
        "plt.ylabel(\"values\")\n",
        "plt.show()"
      ],
      "metadata": {
        "id": "1-GGLr5V2nho",
        "colab": {
          "base_uri": "https://localhost:8080/",
          "height": 409
        },
        "outputId": "f9f39a22-0f0c-4659-a0b0-552c1631694d"
      },
      "execution_count": null,
      "outputs": [
        {
          "output_type": "display_data",
          "data": {
            "text/plain": [
              "<Figure size 1000x600 with 1 Axes>"
            ],
            "image/png": "[encoded data removed]"
          },
          "metadata": {}
        }
      ]
    },
    {
      "cell_type": "code",
      "source": [
        "\n",
        "from sklearn.preprocessing import LabelEncoder\n",
        "label_encoder = LabelEncoder()\n",
        "\n",
        "encoded_model = label_encoder.fit_transform(df[\"Model\"])\n",
        "encoded_df = df.copy()\n",
        "encoded_df[\"Encoded_Model\"] = encoded_model\n",
        "\n",
        "\n",
        "\n",
        "print(encoded_df)"
      ],
      "metadata": {
        "colab": {
          "base_uri": "https://localhost:8080/"
        },
        "id": "Bo2gDkc4pzgc",
        "outputId": "1b2f2975-5f1f-4a02-98e7-361c0a0ad8ff"
      },
      "execution_count": null,
      "outputs": [
        {
          "output_type": "stream",
          "name": "stdout",
          "text": [
            "     Model    Make    Price  Mileage    Year    Color  Encoded_Model\n",
            "0    Civic   Honda  22000.0     30.0  2020.0     Blue              3\n",
            "1  Corolla  Toyota  21000.0     32.0  2019.0      Red              4\n",
            "2  Mustang    Ford  35000.0     47.8  2021.0    Black              6\n",
            "3  Model 3   Tesla  24000.0    120.0  2022.0    White              5\n",
            "4   Altima  Nissan  24000.0     28.0  2020.0     Gray              1\n",
            "5    Camry  Toyota  27000.0     29.0  2020.0  Unknown              2\n",
            "6   Accord   Honda  24000.0     47.8  2021.0   Silver              0\n"
          ]
        }
      ]
    },
    {
      "cell_type": "code",
      "source": [
        "one_hot_encoded = pd.get_dummies(df[[ \"Make\"]])\n",
        "encoded_df = df.copy()\n",
        "encoded_df = pd.concat([ one_hot_encoded], axis=1)\n",
        "print(encoded_df)\n"
      ],
      "metadata": {
        "colab": {
          "base_uri": "https://localhost:8080/"
        },
        "id": "7_dVrJUsCVOG",
        "outputId": "f63043fe-4cb7-4761-b59b-bb7fc26f209c"
      },
      "execution_count": null,
      "outputs": [
        {
          "output_type": "stream",
          "name": "stdout",
          "text": [
            "   Make_Ford  Make_Honda  Make_Nissan  Make_Tesla  Make_Toyota\n",
            "0      False        True        False       False        False\n",
            "1      False       False        False       False         True\n",
            "2       True       False        False       False        False\n",
            "3      False       False        False        True        False\n",
            "4      False       False         True       False        False\n",
            "5      False       False        False       False         True\n",
            "6      False        True        False       False        False\n"
          ]
        }
      ]
    },
    {
      "cell_type": "code",
      "source": [
        "from sklearn.preprocessing import MinMaxScaler, StandardScaler\n",
        "min_max_scaler = MinMaxScaler()\n",
        "standard_scaler = StandardScaler()\n",
        "\n",
        "scaled_price_mileage = min_max_scaler.fit_transform(df[['Price', 'Mileage']])\n",
        "scaled_year = standard_scaler.fit_transform(df[['Year']])\n",
        "\n",
        "scaled_data_frame = df.copy()\n",
        "scaled_data_frame[['Price', 'Mileage']] = scaled_price_mileage\n",
        "scaled_data_frame[['Year']] = scaled_year\n",
        "\n",
        "print(scaled_data_frame)"
      ],
      "metadata": {
        "colab": {
          "base_uri": "https://localhost:8080/"
        },
        "id": "iFY6Wq9D0WOJ",
        "outputId": "2441bbfb-5c2c-4299-8f20-061bb005b078"
      },
      "execution_count": null,
      "outputs": [
        {
          "output_type": "stream",
          "name": "stdout",
          "text": [
            "     Model    Make     Price   Mileage      Year    Color\n",
            "0    Civic   Honda  0.071429  0.021739 -0.474342     Blue\n",
            "1  Corolla  Toyota  0.000000  0.043478 -1.581139      Red\n",
            "2  Mustang    Ford  1.000000  0.215217  0.632456    Black\n",
            "3  Model 3   Tesla  0.214286  1.000000  1.739253    White\n",
            "4   Altima  Nissan  0.214286  0.000000 -0.474342     Gray\n",
            "5    Camry  Toyota  0.428571  0.010870 -0.474342  Unknown\n",
            "6   Accord   Honda  0.214286  0.215217  0.632456   Silver\n"
          ]
        }
      ]
    },
    {
      "cell_type": "code",
      "source": [
        "from sklearn.model_selection import train_test_split\n",
        "\n",
        "\n",
        "X = df.drop('Price',axis =1)\n",
        "y = df['Price']\n",
        "\n",
        "X_train, X_test, y_train, y_test = train_test_split(X, y, test_size=0.3, random_state=42)\n",
        "\n",
        "print(\"Training Features:\")\n",
        "print(X_train)\n",
        "print(\"\\nTest Features:\")\n",
        "print(X_test)"
      ],
      "metadata": {
        "colab": {
          "base_uri": "https://localhost:8080/"
        },
        "id": "X6hsn8Br1yTJ",
        "outputId": "6c0fadbd-176a-4432-c704-3969739ffece"
      },
      "execution_count": null,
      "outputs": [
        {
          "output_type": "stream",
          "name": "stdout",
          "text": [
            "Training Features:\n",
            "     Model    Make  Mileage    Year   Color\n",
            "2  Mustang    Ford     47.8  2021.0   Black\n",
            "4   Altima  Nissan     28.0  2020.0    Gray\n",
            "3  Model 3   Tesla    120.0  2022.0   White\n",
            "6   Accord   Honda     47.8  2021.0  Silver\n",
            "\n",
            "Test Features:\n",
            "     Model    Make  Mileage    Year    Color\n",
            "0    Civic   Honda     30.0  2020.0     Blue\n",
            "1  Corolla  Toyota     32.0  2019.0      Red\n",
            "5    Camry  Toyota     29.0  2020.0  Unknown\n"
          ]
        }
      ]
    }
  ]
}