{
  "nbformat": 4,
  "nbformat_minor": 0,
  "metadata": {
    "colab": {
      "provenance": []
    },
    "kernelspec": {
      "name": "python3",
      "display_name": "Python 3"
    },
    "language_info": {
      "name": "python"
    }
  },
  "cells": [
    {
      "cell_type": "code",
      "execution_count": null,
      "metadata": {
        "colab": {
          "base_uri": "https://localhost:8080/"
        },
        "id": "9GwqaX7ld91P",
        "outputId": "a88e0b4d-46e9-4690-b558-e0f78f3ba609"
      },
      "outputs": [
        {
          "output_type": "stream",
          "name": "stdout",
          "text": [
            "     Age    Salary  Experience\n",
            "0   22.0   25000.0         1.0\n",
            "1   23.0   50000.0         1.0\n",
            "2   28.0   30000.0         2.0\n",
            "3   36.0   40000.0         4.0\n",
            "4  500.0   60000.0         NaN\n",
            "5    NaN  100000.0         4.0\n",
            "6   34.0  150000.0         5.0\n",
            "7   55.0       NaN        12.0\n",
            "8   42.0   50000.0        10.0\n",
            "9   30.0   80000.0        -5.0\n"
          ]
        }
      ],
      "source": [
        "import pandas as pd\n",
        "import numpy as np\n",
        "dataset={\n",
        "    'Age':[22,23,28,36,500,np.nan,34,55,42,30],\n",
        "    'Salary':[25000,50000,30000,40000,60000,100000,150000,np.nan,50000,80000],\n",
        "    'Experience':[1,1,2,4,np.nan,4,5,12,10,-5]\n",
        "}\n",
        "df=pd.DataFrame(dataset)\n",
        "print(df)"
      ]
    },
    {
      "cell_type": "code",
      "source": [
        "df['Age'].fillna(df['Age'].median(),inplace=True)\n",
        "df['Salary'].fillna(df['Salary'].median(),inplace=True)\n",
        "df['Experience'].fillna(df['Experience'].median(),inplace=True)\n",
        "print(df)"
      ],
      "metadata": {
        "colab": {
          "base_uri": "https://localhost:8080/"
        },
        "id": "eQjmKO63fmLg",
        "outputId": "a276a066-56b4-4701-b0cd-e3c4a0511883"
      },
      "execution_count": null,
      "outputs": [
        {
          "output_type": "stream",
          "name": "stdout",
          "text": [
            "     Age    Salary  Experience\n",
            "0   22.0   25000.0         1.0\n",
            "1   23.0   50000.0         1.0\n",
            "2   28.0   30000.0         2.0\n",
            "3   36.0   40000.0         4.0\n",
            "4  500.0   60000.0         4.0\n",
            "5   34.0  100000.0         4.0\n",
            "6   34.0  150000.0         5.0\n",
            "7   55.0   50000.0        12.0\n",
            "8   42.0   50000.0        10.0\n",
            "9   30.0   80000.0        -5.0\n"
          ]
        },
        {
          "output_type": "stream",
          "name": "stderr",
          "text": [
            "<ipython-input-65-79ed2a94e254>:1: FutureWarning: A value is trying to be set on a copy of a DataFrame or Series through chained assignment using an inplace method.\n",
            "The behavior will change in pandas 3.0. This inplace method will never work because the intermediate object on which we are setting values always behaves as a copy.\n",
            "\n",
            "For example, when doing 'df[col].method(value, inplace=True)', try using 'df.method({col: value}, inplace=True)' or df[col] = df[col].method(value) instead, to perform the operation inplace on the original object.\n",
            "\n",
            "\n",
            "  df['Age'].fillna(df['Age'].median(),inplace=True)\n",
            "<ipython-input-65-79ed2a94e254>:2: FutureWarning: A value is trying to be set on a copy of a DataFrame or Series through chained assignment using an inplace method.\n",
            "The behavior will change in pandas 3.0. This inplace method will never work because the intermediate object on which we are setting values always behaves as a copy.\n",
            "\n",
            "For example, when doing 'df[col].method(value, inplace=True)', try using 'df.method({col: value}, inplace=True)' or df[col] = df[col].method(value) instead, to perform the operation inplace on the original object.\n",
            "\n",
            "\n",
            "  df['Salary'].fillna(df['Salary'].median(),inplace=True)\n",
            "<ipython-input-65-79ed2a94e254>:3: FutureWarning: A value is trying to be set on a copy of a DataFrame or Series through chained assignment using an inplace method.\n",
            "The behavior will change in pandas 3.0. This inplace method will never work because the intermediate object on which we are setting values always behaves as a copy.\n",
            "\n",
            "For example, when doing 'df[col].method(value, inplace=True)', try using 'df.method({col: value}, inplace=True)' or df[col] = df[col].method(value) instead, to perform the operation inplace on the original object.\n",
            "\n",
            "\n",
            "  df['Experience'].fillna(df['Experience'].median(),inplace=True)\n"
          ]
        }
      ]
    },
    {
      "cell_type": "code",
      "source": [
        "df['Experience']=df['Experience'].apply(lambda x: abs(x) if x<0 else x)\n",
        "print(df['Experience'])"
      ],
      "metadata": {
        "colab": {
          "base_uri": "https://localhost:8080/"
        },
        "id": "E58iIVVAgFHm",
        "outputId": "13552161-38bd-4715-c989-75deaf714b4f"
      },
      "execution_count": null,
      "outputs": [
        {
          "output_type": "stream",
          "name": "stdout",
          "text": [
            "0     1.0\n",
            "1     1.0\n",
            "2     2.0\n",
            "3     4.0\n",
            "4     4.0\n",
            "5     4.0\n",
            "6     5.0\n",
            "7    12.0\n",
            "8    10.0\n",
            "9     5.0\n",
            "Name: Experience, dtype: float64\n"
          ]
        }
      ]
    },
    {
      "cell_type": "code",
      "source": [
        "import matplotlib.pyplot as plt\n",
        "fig= plt.figure(figsize=(7,4))\n",
        "plt.scatter(df.index,df['Age'],marker='o',color='Blue')\n",
        "plt.xlabel(\"index\")\n",
        "plt.ylabel(\"age\")\n",
        "plt.title(\"Age outliers\")\n",
        "plt.show()\n",
        "fig= plt.figure(figsize=(7,4))\n",
        "plt.boxplot(df['Age'])\n",
        "plt.show()"
      ],
      "metadata": {
        "colab": {
          "base_uri": "https://localhost:8080/",
          "height": 761
        },
        "id": "bYIaqVJ-gbMv",
        "outputId": "3501ac1a-0957-425a-a8ee-1affdbb234c9"
      },
      "execution_count": null,
      "outputs": [
        {
          "output_type": "display_data",
          "data": {
            "text/plain": [
              "<Figure size 700x400 with 1 Axes>"
            ],
            "image/png": "[encoded data removed]"
          },
          "metadata": {}
        },
        {
          "output_type": "display_data",
          "data": {
            "text/plain": [
              "<Figure size 700x400 with 1 Axes>"
            ],
            "image/png": "[encoded data removed]"
          },
          "metadata": {}
        }
      ]
    },
    {
      "cell_type": "code",
      "source": [
        "from scipy import stats\n",
        "z_score= np.abs(stats.zscore(df))\n",
        "outlier=(z_score>2.5)\n",
        "print(z_score)\n",
        "print(outlier)\n",
        "df['Z_score']=z_score['Age']\n",
        "outlier_rows = df[outlier.any(axis=1)]\n",
        "print(outlier_rows)\n",
        "# print(~outlier)\n"
      ],
      "metadata": {
        "colab": {
          "base_uri": "https://localhost:8080/"
        },
        "id": "8DmbnBkshAW3",
        "outputId": "c82be563-b0f0-419b-ece6-a7c18e6a3346"
      },
      "execution_count": null,
      "outputs": [
        {
          "output_type": "stream",
          "name": "stdout",
          "text": [
            "        Age    Salary  Experience\n",
            "0  0.416662  1.076003    1.108103\n",
            "1  0.409528  0.377300    1.108103\n",
            "2  0.373855  0.936262    0.816497\n",
            "3  0.316777  0.656781    0.233285\n",
            "4  2.993690  0.097818    0.233285\n",
            "5  0.331047  1.020106    0.233285\n",
            "6  0.331047  2.417512    0.058321\n",
            "7  0.181220  0.377300    2.099563\n",
            "8  0.273970  0.377300    1.516351\n",
            "9  0.359585  0.461144    0.058321\n",
            "     Age  Salary  Experience\n",
            "0  False   False       False\n",
            "1  False   False       False\n",
            "2  False   False       False\n",
            "3  False   False       False\n",
            "4   True   False       False\n",
            "5  False   False       False\n",
            "6  False   False       False\n",
            "7  False   False       False\n",
            "8  False   False       False\n",
            "9  False   False       False\n",
            "     Age   Salary  Experience  Z_score\n",
            "4  500.0  60000.0         4.0  2.99369\n"
          ]
        }
      ]
    },
    {
      "cell_type": "code",
      "source": [
        "Q1=df['Age'].quantile(0.25)\n",
        "Q3=df['Age'].quantile(0.75)\n",
        "IQR= Q3-Q1\n",
        "outlier=(df['Age']<(Q1-1.5*IQR))|(df['Age']>(Q3+1.5*IQR))\n",
        "print(outlier)\n",
        "\n",
        "print((Q1-1.5*IQR))\n",
        "print((Q3+1.5*IQR))\n",
        "\n",
        "outlier_rows = df[outlier]\n",
        "print(outlier_rows)"
      ],
      "metadata": {
        "colab": {
          "base_uri": "https://localhost:8080/"
        },
        "id": "Ak_3zHBDsPkr",
        "outputId": "ac4accc8-8610-45da-c104-851f2d82b7a5"
      },
      "execution_count": null,
      "outputs": [
        {
          "output_type": "stream",
          "name": "stdout",
          "text": [
            "0    False\n",
            "1    False\n",
            "2    False\n",
            "3    False\n",
            "4     True\n",
            "5    False\n",
            "6    False\n",
            "7    False\n",
            "8    False\n",
            "9    False\n",
            "Name: Age, dtype: bool\n",
            "10.5\n",
            "58.5\n",
            "     Age   Salary  Experience  Z_score\n",
            "4  500.0  60000.0         4.0  2.99369\n"
          ]
        }
      ]
    }
  ]
}