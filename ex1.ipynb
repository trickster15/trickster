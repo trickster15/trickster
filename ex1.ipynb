{
 "cells": [
  {
   "cell_type": "code",
   "execution_count": 26,
   "id": "5d39906e",
   "metadata": {},
   "outputs": [],
   "source": [
    "import random\n",
    "import numpy as np\n"
   ]
  },
  {
   "cell_type": "code",
   "execution_count": 27,
   "id": "28cfa253",
   "metadata": {},
   "outputs": [
    {
     "name": "stdout",
     "output_type": "stream",
     "text": [
      "[[95 16 86]\n",
      " [95 29 46]\n",
      " [26 37  4]]\n"
     ]
    }
   ],
   "source": [
    "mat= np.random.randint(1,100,(3,3))\n",
    "print(mat)"
   ]
  },
  {
   "cell_type": "code",
   "execution_count": 28,
   "id": "3346a7db",
   "metadata": {},
   "outputs": [
    {
     "name": "stdout",
     "output_type": "stream",
     "text": [
      "434\n",
      "48.22222222222222\n",
      "32.98409642970307\n"
     ]
    }
   ],
   "source": [
    "print(mat.sum())\n",
    "print(mat.mean())\n",
    "print(mat.std())"
   ]
  },
  {
   "cell_type": "code",
   "execution_count": 29,
   "id": "9d003e53",
   "metadata": {},
   "outputs": [
    {
     "name": "stdout",
     "output_type": "stream",
     "text": [
      "[[20 87]\n",
      " [15 98]]\n",
      "[[31  9]\n",
      " [57 51]]\n",
      "[[5579 4617]\n",
      " [6051 5133]]\n"
     ]
    }
   ],
   "source": [
    "arr1= np.random.randint(1,101,(2,2))\n",
    "arr2= np.random.randint(1,101,(2,2))\n",
    "print(arr1)\n",
    "print(arr2)\n",
    "print(arr1.dot(arr2))"
   ]
  },
  {
   "cell_type": "code",
   "execution_count": 30,
   "id": "d430418a",
   "metadata": {},
   "outputs": [
    {
     "name": "stdout",
     "output_type": "stream",
     "text": [
      "[33  7 95 39 37 27 35 34 82 80]\n",
      "34\n",
      "82\n",
      "80\n"
     ]
    }
   ],
   "source": [
    "arr= np.random.randint(1,101,size=10)\n",
    "print(arr)\n",
    "for i in arr:\n",
    "    if i % 2==0:\n",
    "        print(i)\n"
   ]
  },
  {
   "cell_type": "code",
   "execution_count": 31,
   "id": "1d588883",
   "metadata": {},
   "outputs": [],
   "source": [
    "import pandas as pd"
   ]
  },
  {
   "cell_type": "code",
   "execution_count": 32,
   "id": "d2a3242c",
   "metadata": {},
   "outputs": [
    {
     "data": {
      "text/html": [
       "<div>\n",
       "<style scoped>\n",
       "    .dataframe tbody tr th:only-of-type {\n",
       "        vertical-align: middle;\n",
       "    }\n",
       "\n",
       "    .dataframe tbody tr th {\n",
       "        vertical-align: top;\n",
       "    }\n",
       "\n",
       "    .dataframe thead th {\n",
       "        text-align: right;\n",
       "    }\n",
       "</style>\n",
       "<table border=\"1\" class=\"dataframe\">\n",
       "  <thead>\n",
       "    <tr style=\"text-align: right;\">\n",
       "      <th></th>\n",
       "      <th>orderno</th>\n",
       "      <th>amount</th>\n",
       "      <th>custid</th>\n",
       "    </tr>\n",
       "  </thead>\n",
       "  <tbody>\n",
       "    <tr>\n",
       "      <th>0</th>\n",
       "      <td>1</td>\n",
       "      <td>100</td>\n",
       "      <td>101</td>\n",
       "    </tr>\n",
       "    <tr>\n",
       "      <th>1</th>\n",
       "      <td>2</td>\n",
       "      <td>200</td>\n",
       "      <td>101</td>\n",
       "    </tr>\n",
       "    <tr>\n",
       "      <th>2</th>\n",
       "      <td>3</td>\n",
       "      <td>300</td>\n",
       "      <td>103</td>\n",
       "    </tr>\n",
       "    <tr>\n",
       "      <th>3</th>\n",
       "      <td>4</td>\n",
       "      <td>400</td>\n",
       "      <td>105</td>\n",
       "    </tr>\n",
       "    <tr>\n",
       "      <th>4</th>\n",
       "      <td>5</td>\n",
       "      <td>500</td>\n",
       "      <td>105</td>\n",
       "    </tr>\n",
       "  </tbody>\n",
       "</table>\n",
       "</div>"
      ],
      "text/plain": [
       "   orderno  amount  custid\n",
       "0        1     100     101\n",
       "1        2     200     101\n",
       "2        3     300     103\n",
       "3        4     400     105\n",
       "4        5     500     105"
      ]
     },
     "execution_count": 32,
     "metadata": {},
     "output_type": "execute_result"
    }
   ],
   "source": [
    "cust={\n",
    "    'orderno':[1,2,3,4,5],\n",
    "    'amount':[100,200,300,400,500],\n",
    "    'custid':[101,101,103,105,105],\n",
    "}\n",
    "df= pd.DataFrame(cust)\n",
    "df"
   ]
  },
  {
   "cell_type": "code",
   "execution_count": 33,
   "id": "9603a9ce",
   "metadata": {},
   "outputs": [
    {
     "name": "stdout",
     "output_type": "stream",
     "text": [
      "custid\n",
      "101    100\n",
      "103    300\n",
      "105    400\n",
      "Name: amount, dtype: int64\n",
      "custid\n",
      "101    200\n",
      "103    300\n",
      "105    500\n",
      "Name: amount, dtype: int64\n",
      "custid\n",
      "101    150.0\n",
      "103    300.0\n",
      "105    450.0\n",
      "Name: amount, dtype: float64\n"
     ]
    }
   ],
   "source": [
    "print(df.groupby(\"custid\")[\"amount\"].min())\n",
    "print(df.groupby(\"custid\")[\"amount\"].max())\n",
    "print(df.groupby(\"custid\")[\"amount\"].mean())"
   ]
  },
  {
   "cell_type": "code",
   "execution_count": 34,
   "id": "9fd7f568",
   "metadata": {},
   "outputs": [
    {
     "name": "stdout",
     "output_type": "stream",
     "text": [
      "        orderno  amount\n",
      "custid                 \n",
      "101           2       2\n",
      "103           1       1\n",
      "105           2       2\n"
     ]
    }
   ],
   "source": [
    "print(df.groupby(\"custid\").count())"
   ]
  },
  {
   "cell_type": "code",
   "execution_count": 35,
   "id": "d621683a",
   "metadata": {},
   "outputs": [
    {
     "data": {
      "text/plain": [
       "custid\n",
       "101    2\n",
       "105    2\n",
       "103    1\n",
       "Name: count, dtype: int64"
      ]
     },
     "execution_count": 35,
     "metadata": {},
     "output_type": "execute_result"
    }
   ],
   "source": [
    "df.value_counts(\"custid\")"
   ]
  },
  {
   "cell_type": "code",
   "execution_count": 36,
   "id": "e7f9edb7",
   "metadata": {},
   "outputs": [
    {
     "data": {
      "text/html": [
       "<div>\n",
       "<style scoped>\n",
       "    .dataframe tbody tr th:only-of-type {\n",
       "        vertical-align: middle;\n",
       "    }\n",
       "\n",
       "    .dataframe tbody tr th {\n",
       "        vertical-align: top;\n",
       "    }\n",
       "\n",
       "    .dataframe thead th {\n",
       "        text-align: right;\n",
       "    }\n",
       "</style>\n",
       "<table border=\"1\" class=\"dataframe\">\n",
       "  <thead>\n",
       "    <tr style=\"text-align: right;\">\n",
       "      <th></th>\n",
       "      <th>empid</th>\n",
       "      <th>empname</th>\n",
       "      <th>salary</th>\n",
       "      <th>dept</th>\n",
       "      <th>age</th>\n",
       "      <th>experience</th>\n",
       "    </tr>\n",
       "  </thead>\n",
       "  <tbody>\n",
       "    <tr>\n",
       "      <th>0</th>\n",
       "      <td>1</td>\n",
       "      <td>A</td>\n",
       "      <td>1000</td>\n",
       "      <td>HR</td>\n",
       "      <td>25</td>\n",
       "      <td>1</td>\n",
       "    </tr>\n",
       "    <tr>\n",
       "      <th>1</th>\n",
       "      <td>2</td>\n",
       "      <td>B</td>\n",
       "      <td>2000</td>\n",
       "      <td>IT</td>\n",
       "      <td>30</td>\n",
       "      <td>2</td>\n",
       "    </tr>\n",
       "    <tr>\n",
       "      <th>2</th>\n",
       "      <td>3</td>\n",
       "      <td>C</td>\n",
       "      <td>3000</td>\n",
       "      <td>HR</td>\n",
       "      <td>35</td>\n",
       "      <td>3</td>\n",
       "    </tr>\n",
       "    <tr>\n",
       "      <th>3</th>\n",
       "      <td>4</td>\n",
       "      <td>D</td>\n",
       "      <td>4000</td>\n",
       "      <td>IT</td>\n",
       "      <td>40</td>\n",
       "      <td>4</td>\n",
       "    </tr>\n",
       "    <tr>\n",
       "      <th>4</th>\n",
       "      <td>5</td>\n",
       "      <td>E</td>\n",
       "      <td>5000</td>\n",
       "      <td>HR</td>\n",
       "      <td>45</td>\n",
       "      <td>5</td>\n",
       "    </tr>\n",
       "  </tbody>\n",
       "</table>\n",
       "</div>"
      ],
      "text/plain": [
       "   empid empname  salary dept  age  experience\n",
       "0      1       A    1000   HR   25           1\n",
       "1      2       B    2000   IT   30           2\n",
       "2      3       C    3000   HR   35           3\n",
       "3      4       D    4000   IT   40           4\n",
       "4      5       E    5000   HR   45           5"
      ]
     },
     "execution_count": 36,
     "metadata": {},
     "output_type": "execute_result"
    }
   ],
   "source": [
    "emp={\n",
    "    \"empid\":[1,2,3,4,5],\n",
    "    \"empname\":[\"A\",\"B\",\"C\",\"D\",\"E\"],\n",
    "    \"salary\":[1000,2000,3000,4000,5000],\n",
    "    \"dept\":[\"HR\",\"IT\",\"HR\",\"IT\",\"HR\"],\n",
    "    \"age\":[25,30,35,40,45],\n",
    "    \"experience\":[1,2,3,4,5],\n",
    "    }\n",
    "df= pd.DataFrame(emp)\n",
    "df"
   ]
  },
  {
   "cell_type": "code",
   "execution_count": 48,
   "id": "9804dec7",
   "metadata": {},
   "outputs": [
    {
     "data": {
      "text/html": [
       "<div>\n",
       "<style scoped>\n",
       "    .dataframe tbody tr th:only-of-type {\n",
       "        vertical-align: middle;\n",
       "    }\n",
       "\n",
       "    .dataframe tbody tr th {\n",
       "        vertical-align: top;\n",
       "    }\n",
       "\n",
       "    .dataframe thead th {\n",
       "        text-align: right;\n",
       "    }\n",
       "</style>\n",
       "<table border=\"1\" class=\"dataframe\">\n",
       "  <thead>\n",
       "    <tr style=\"text-align: right;\">\n",
       "      <th></th>\n",
       "      <th>empid</th>\n",
       "      <th>empname</th>\n",
       "      <th>age</th>\n",
       "      <th>salary</th>\n",
       "      <th>dept</th>\n",
       "      <th>experience</th>\n",
       "    </tr>\n",
       "  </thead>\n",
       "  <tbody>\n",
       "    <tr>\n",
       "      <th>0</th>\n",
       "      <td>101</td>\n",
       "      <td>Alice</td>\n",
       "      <td>25</td>\n",
       "      <td>50000</td>\n",
       "      <td>HR</td>\n",
       "      <td>2</td>\n",
       "    </tr>\n",
       "    <tr>\n",
       "      <th>1</th>\n",
       "      <td>102</td>\n",
       "      <td>Bob</td>\n",
       "      <td>30</td>\n",
       "      <td>60000</td>\n",
       "      <td>IT</td>\n",
       "      <td>5</td>\n",
       "    </tr>\n",
       "    <tr>\n",
       "      <th>2</th>\n",
       "      <td>103</td>\n",
       "      <td>Charlie</td>\n",
       "      <td>28</td>\n",
       "      <td>55000</td>\n",
       "      <td>Finance</td>\n",
       "      <td>4</td>\n",
       "    </tr>\n",
       "    <tr>\n",
       "      <th>3</th>\n",
       "      <td>104</td>\n",
       "      <td>David</td>\n",
       "      <td>35</td>\n",
       "      <td>75000</td>\n",
       "      <td>Marketing</td>\n",
       "      <td>10</td>\n",
       "    </tr>\n",
       "    <tr>\n",
       "      <th>4</th>\n",
       "      <td>105</td>\n",
       "      <td>Eva</td>\n",
       "      <td>40</td>\n",
       "      <td>80000</td>\n",
       "      <td>IT</td>\n",
       "      <td>12</td>\n",
       "    </tr>\n",
       "    <tr>\n",
       "      <th>5</th>\n",
       "      <td>106</td>\n",
       "      <td>Frank</td>\n",
       "      <td>32</td>\n",
       "      <td>67000</td>\n",
       "      <td>HR</td>\n",
       "      <td>7</td>\n",
       "    </tr>\n",
       "    <tr>\n",
       "      <th>6</th>\n",
       "      <td>107</td>\n",
       "      <td>Grace</td>\n",
       "      <td>29</td>\n",
       "      <td>62000</td>\n",
       "      <td>Finance</td>\n",
       "      <td>3</td>\n",
       "    </tr>\n",
       "    <tr>\n",
       "      <th>7</th>\n",
       "      <td>108</td>\n",
       "      <td>Helen</td>\n",
       "      <td>31</td>\n",
       "      <td>70000</td>\n",
       "      <td>Marketing</td>\n",
       "      <td>9</td>\n",
       "    </tr>\n",
       "    <tr>\n",
       "      <th>8</th>\n",
       "      <td>109</td>\n",
       "      <td>Ian</td>\n",
       "      <td>26</td>\n",
       "      <td>48000</td>\n",
       "      <td>IT</td>\n",
       "      <td>1</td>\n",
       "    </tr>\n",
       "    <tr>\n",
       "      <th>9</th>\n",
       "      <td>110</td>\n",
       "      <td>Jane</td>\n",
       "      <td>27</td>\n",
       "      <td>51000</td>\n",
       "      <td>Finance</td>\n",
       "      <td>2</td>\n",
       "    </tr>\n",
       "  </tbody>\n",
       "</table>\n",
       "</div>"
      ],
      "text/plain": [
       "   empid  empname  age  salary       dept  experience\n",
       "0    101    Alice   25   50000         HR           2\n",
       "1    102      Bob   30   60000         IT           5\n",
       "2    103  Charlie   28   55000    Finance           4\n",
       "3    104    David   35   75000  Marketing          10\n",
       "4    105      Eva   40   80000         IT          12\n",
       "5    106    Frank   32   67000         HR           7\n",
       "6    107    Grace   29   62000    Finance           3\n",
       "7    108    Helen   31   70000  Marketing           9\n",
       "8    109      Ian   26   48000         IT           1\n",
       "9    110     Jane   27   51000    Finance           2"
      ]
     },
     "execution_count": 48,
     "metadata": {},
     "output_type": "execute_result"
    }
   ],
   "source": [
    "df= pd.read_csv(\"employee_data.csv\")\n",
    "df"
   ]
  },
  {
   "cell_type": "code",
   "execution_count": 49,
   "id": "0766fe39",
   "metadata": {},
   "outputs": [
    {
     "name": "stdout",
     "output_type": "stream",
     "text": [
      "<class 'pandas.core.frame.DataFrame'>\n",
      "RangeIndex: 10 entries, 0 to 9\n",
      "Data columns (total 6 columns):\n",
      " #   Column      Non-Null Count  Dtype \n",
      "---  ------      --------------  ----- \n",
      " 0   empid       10 non-null     int64 \n",
      " 1   empname     10 non-null     object\n",
      " 2   age         10 non-null     int64 \n",
      " 3   salary      10 non-null     int64 \n",
      " 4   dept        10 non-null     object\n",
      " 5   experience  10 non-null     int64 \n",
      "dtypes: int64(4), object(2)\n",
      "memory usage: 612.0+ bytes\n"
     ]
    },
    {
     "data": {
      "text/html": [
       "<div>\n",
       "<style scoped>\n",
       "    .dataframe tbody tr th:only-of-type {\n",
       "        vertical-align: middle;\n",
       "    }\n",
       "\n",
       "    .dataframe tbody tr th {\n",
       "        vertical-align: top;\n",
       "    }\n",
       "\n",
       "    .dataframe thead th {\n",
       "        text-align: right;\n",
       "    }\n",
       "</style>\n",
       "<table border=\"1\" class=\"dataframe\">\n",
       "  <thead>\n",
       "    <tr style=\"text-align: right;\">\n",
       "      <th></th>\n",
       "      <th>empid</th>\n",
       "      <th>age</th>\n",
       "      <th>salary</th>\n",
       "      <th>experience</th>\n",
       "    </tr>\n",
       "  </thead>\n",
       "  <tbody>\n",
       "    <tr>\n",
       "      <th>count</th>\n",
       "      <td>10.00000</td>\n",
       "      <td>10.000000</td>\n",
       "      <td>10.000000</td>\n",
       "      <td>10.000000</td>\n",
       "    </tr>\n",
       "    <tr>\n",
       "      <th>mean</th>\n",
       "      <td>105.50000</td>\n",
       "      <td>30.300000</td>\n",
       "      <td>61800.000000</td>\n",
       "      <td>5.500000</td>\n",
       "    </tr>\n",
       "    <tr>\n",
       "      <th>std</th>\n",
       "      <td>3.02765</td>\n",
       "      <td>4.522782</td>\n",
       "      <td>11033.282981</td>\n",
       "      <td>3.807887</td>\n",
       "    </tr>\n",
       "    <tr>\n",
       "      <th>min</th>\n",
       "      <td>101.00000</td>\n",
       "      <td>25.000000</td>\n",
       "      <td>48000.000000</td>\n",
       "      <td>1.000000</td>\n",
       "    </tr>\n",
       "    <tr>\n",
       "      <th>25%</th>\n",
       "      <td>103.25000</td>\n",
       "      <td>27.250000</td>\n",
       "      <td>52000.000000</td>\n",
       "      <td>2.250000</td>\n",
       "    </tr>\n",
       "    <tr>\n",
       "      <th>50%</th>\n",
       "      <td>105.50000</td>\n",
       "      <td>29.500000</td>\n",
       "      <td>61000.000000</td>\n",
       "      <td>4.500000</td>\n",
       "    </tr>\n",
       "    <tr>\n",
       "      <th>75%</th>\n",
       "      <td>107.75000</td>\n",
       "      <td>31.750000</td>\n",
       "      <td>69250.000000</td>\n",
       "      <td>8.500000</td>\n",
       "    </tr>\n",
       "    <tr>\n",
       "      <th>max</th>\n",
       "      <td>110.00000</td>\n",
       "      <td>40.000000</td>\n",
       "      <td>80000.000000</td>\n",
       "      <td>12.000000</td>\n",
       "    </tr>\n",
       "  </tbody>\n",
       "</table>\n",
       "</div>"
      ],
      "text/plain": [
       "           empid        age        salary  experience\n",
       "count   10.00000  10.000000     10.000000   10.000000\n",
       "mean   105.50000  30.300000  61800.000000    5.500000\n",
       "std      3.02765   4.522782  11033.282981    3.807887\n",
       "min    101.00000  25.000000  48000.000000    1.000000\n",
       "25%    103.25000  27.250000  52000.000000    2.250000\n",
       "50%    105.50000  29.500000  61000.000000    4.500000\n",
       "75%    107.75000  31.750000  69250.000000    8.500000\n",
       "max    110.00000  40.000000  80000.000000   12.000000"
      ]
     },
     "execution_count": 49,
     "metadata": {},
     "output_type": "execute_result"
    }
   ],
   "source": [
    "df.info()\n",
    "df.describe()"
   ]
  },
  {
   "cell_type": "code",
   "execution_count": 52,
   "id": "1ff46938",
   "metadata": {},
   "outputs": [
    {
     "data": {
      "text/html": [
       "<div>\n",
       "<style scoped>\n",
       "    .dataframe tbody tr th:only-of-type {\n",
       "        vertical-align: middle;\n",
       "    }\n",
       "\n",
       "    .dataframe tbody tr th {\n",
       "        vertical-align: top;\n",
       "    }\n",
       "\n",
       "    .dataframe thead th {\n",
       "        text-align: right;\n",
       "    }\n",
       "</style>\n",
       "<table border=\"1\" class=\"dataframe\">\n",
       "  <thead>\n",
       "    <tr style=\"text-align: right;\">\n",
       "      <th></th>\n",
       "      <th>empid</th>\n",
       "      <th>empname</th>\n",
       "      <th>age</th>\n",
       "      <th>salary</th>\n",
       "      <th>dept</th>\n",
       "      <th>experience</th>\n",
       "    </tr>\n",
       "  </thead>\n",
       "  <tbody>\n",
       "    <tr>\n",
       "      <th>3</th>\n",
       "      <td>104</td>\n",
       "      <td>David</td>\n",
       "      <td>35</td>\n",
       "      <td>75000</td>\n",
       "      <td>Marketing</td>\n",
       "      <td>10</td>\n",
       "    </tr>\n",
       "    <tr>\n",
       "      <th>4</th>\n",
       "      <td>105</td>\n",
       "      <td>Eva</td>\n",
       "      <td>40</td>\n",
       "      <td>80000</td>\n",
       "      <td>IT</td>\n",
       "      <td>12</td>\n",
       "    </tr>\n",
       "    <tr>\n",
       "      <th>5</th>\n",
       "      <td>106</td>\n",
       "      <td>Frank</td>\n",
       "      <td>32</td>\n",
       "      <td>67000</td>\n",
       "      <td>HR</td>\n",
       "      <td>7</td>\n",
       "    </tr>\n",
       "    <tr>\n",
       "      <th>6</th>\n",
       "      <td>107</td>\n",
       "      <td>Grace</td>\n",
       "      <td>29</td>\n",
       "      <td>62000</td>\n",
       "      <td>Finance</td>\n",
       "      <td>3</td>\n",
       "    </tr>\n",
       "    <tr>\n",
       "      <th>7</th>\n",
       "      <td>108</td>\n",
       "      <td>Helen</td>\n",
       "      <td>31</td>\n",
       "      <td>70000</td>\n",
       "      <td>Marketing</td>\n",
       "      <td>9</td>\n",
       "    </tr>\n",
       "  </tbody>\n",
       "</table>\n",
       "</div>"
      ],
      "text/plain": [
       "   empid empname  age  salary       dept  experience\n",
       "3    104   David   35   75000  Marketing          10\n",
       "4    105     Eva   40   80000         IT          12\n",
       "5    106   Frank   32   67000         HR           7\n",
       "6    107   Grace   29   62000    Finance           3\n",
       "7    108   Helen   31   70000  Marketing           9"
      ]
     },
     "execution_count": 52,
     "metadata": {},
     "output_type": "execute_result"
    }
   ],
   "source": [
    "res=df[df[\"salary\"]>60000]\n",
    "res\n"
   ]
  },
  {
   "cell_type": "code",
   "execution_count": 53,
   "id": "641e6316",
   "metadata": {},
   "outputs": [
    {
     "name": "stdout",
     "output_type": "stream",
     "text": [
      "dept\n",
      "Finance      56000.000000\n",
      "HR           58500.000000\n",
      "IT           62666.666667\n",
      "Marketing    72500.000000\n",
      "Name: salary, dtype: float64\n"
     ]
    }
   ],
   "source": [
    "print(df.groupby(\"dept\")[\"salary\"].mean())"
   ]
  },
  {
   "cell_type": "code",
   "execution_count": 56,
   "id": "6754a779",
   "metadata": {},
   "outputs": [
    {
     "data": {
      "text/plain": [
       "array([1.83424318])"
      ]
     },
     "execution_count": 56,
     "metadata": {},
     "output_type": "execute_result"
    }
   ],
   "source": [
    "from scipy.optimize import fsolve\n",
    "def eq(x):\n",
    "    return x**3-5*x+3\n",
    "root=fsolve(eq,3)\n",
    "root"
   ]
  },
  {
   "cell_type": "code",
   "execution_count": 59,
   "id": "2932ebfa",
   "metadata": {},
   "outputs": [
    {
     "data": {
      "text/plain": [
       "(37.33333333333333, 4.144832625267251e-13)"
      ]
     },
     "execution_count": 59,
     "metadata": {},
     "output_type": "execute_result"
    }
   ],
   "source": [
    "from scipy.integrate import quad\n",
    "def f(x):\n",
    "    return x**2+2*x\n",
    "inte= quad(f,0,4)\n",
    "inte"
   ]
  },
  {
   "cell_type": "code",
   "execution_count": 60,
   "id": "65066c67",
   "metadata": {},
   "outputs": [
    {
     "name": "stdout",
     "output_type": "stream",
     "text": [
      "    product  sales  revenue    cost  reviews\n",
      "0    Laptop    150   150000  120000      4.5\n",
      "1     Phone    300   180000  140000      4.7\n",
      "2    Tablet    120    72000   60000      4.2\n",
      "3   Monitor     90    45000   35000      4.0\n",
      "4  Keyboard    200    40000   30000      3.8\n",
      "5     Mouse    250    37500   28000      4.1\n",
      "6   Printer     80    64000   50000      4.3\n",
      "7    Camera     60    48000   40000      4.0\n",
      "8   Speaker    170    51000   39000      4.4\n",
      "9    Router    110    33000   27000      3.9\n"
     ]
    }
   ],
   "source": [
    "import matplotlib.pyplot as plt\n",
    "import pandas as pd\n",
    "\n",
    "# Create a sample DataFrame\n",
    "data = {\n",
    "    'product': ['Laptop', 'Phone', 'Tablet', 'Monitor', 'Keyboard', 'Mouse', 'Printer', 'Camera', 'Speaker', 'Router'],\n",
    "    'sales': [150, 300, 120, 90, 200, 250, 80, 60, 170, 110],\n",
    "    'revenue': [150000, 180000, 72000, 45000, 40000, 37500, 64000, 48000, 51000, 33000],\n",
    "    'cost': [120000, 140000, 60000, 35000, 30000, 28000, 50000, 40000, 39000, 27000],\n",
    "    'reviews': [4.5, 4.7, 4.2, 4.0, 3.8, 4.1, 4.3, 4.0, 4.4, 3.9]\n",
    "}\n",
    "\n",
    "df = pd.DataFrame(data)\n",
    "\n",
    "print(df)\n"
   ]
  },
  {
   "cell_type": "code",
   "execution_count": 73,
   "id": "44f23f3b",
   "metadata": {},
   "outputs": [
    {
     "data": {
      "text/plain": [
       "Text(0.5, 1.0, 'Sales of Products')"
      ]
     },
     "execution_count": 73,
     "metadata": {},
     "output_type": "execute_result"
    },
    {
     "data": {
      "image/png": "[encoded data removed]",
      "text/plain": [
       "<Figure size 640x480 with 1 Axes>"
      ]
     },
     "metadata": {},
     "output_type": "display_data"
    }
   ],
   "source": [
    "plt.plot(df['product'],df['sales'],label='Sales', color='blue',marker='o')\n",
    "plt.ylabel('sales')\n",
    "plt.xlabel('products')\n",
    "plt.title('Sales of Products')"
   ]
  },
  {
   "cell_type": "code",
   "execution_count": 70,
   "id": "d2aa3e3c",
   "metadata": {},
   "outputs": [
    {
     "data": {
      "text/plain": [
       "<matplotlib.legend.Legend at 0x25c3f174d10>"
      ]
     },
     "execution_count": 70,
     "metadata": {},
     "output_type": "execute_result"
    },
    {
     "data": {
      "image/png": "[encoded data removed]",
      "text/plain": [
       "<Figure size 640x480 with 1 Axes>"
      ]
     },
     "metadata": {},
     "output_type": "display_data"
    }
   ],
   "source": [
    "plt.bar(df['sales'],df['product'],label='Sales',width=8)\n",
    "plt.ylabel('sales') \n",
    "plt.xlabel('products')\n",
    "plt.title('Sales of Products')\n",
    "plt.legend()"
   ]
  },
  {
   "cell_type": "code",
   "execution_count": 76,
   "id": "3548f40b",
   "metadata": {},
   "outputs": [
    {
     "data": {
      "text/plain": [
       "<matplotlib.legend.Legend at 0x25c4215cd10>"
      ]
     },
     "execution_count": 76,
     "metadata": {},
     "output_type": "execute_result"
    },
    {
     "data": {
      "image/png": "[encoded data removed]",
      "text/plain": [
       "<Figure size 640x480 with 1 Axes>"
      ]
     },
     "metadata": {},
     "output_type": "display_data"
    }
   ],
   "source": [
    "plt.scatter(df[\"sales\"],df[\"revenue\"],color=\"red\",label=\"Sales vs Revenue\")\n",
    "plt.xlabel(\"Sales\") \n",
    "plt.ylabel(\"Revenue\")\n",
    "plt.title(\"Sales vs Revenue\")\n",
    "plt.legend()\n"
   ]
  },
  {
   "cell_type": "code",
   "execution_count": 77,
   "id": "55ccd0c2",
   "metadata": {},
   "outputs": [
    {
     "data": {
      "text/plain": [
       "Text(0.5, 0, 'Sales')"
      ]
     },
     "execution_count": 77,
     "metadata": {},
     "output_type": "execute_result"
    },
    {
     "data": {
      "image/png": "[encoded data removed]",
      "text/plain": [
       "<Figure size 640x480 with 1 Axes>"
      ]
     },
     "metadata": {},
     "output_type": "display_data"
    }
   ],
   "source": [
    "plt.hist(df[\"sales\"],bins=5,color=\"green\",label=\"Sales Distribution\")\n",
    "plt.xlabel(\"Sales\") \n"
   ]
  },
  {
   "cell_type": "code",
   "execution_count": 79,
   "id": "cccde875",
   "metadata": {},
   "outputs": [
    {
     "data": {
      "text/plain": [
       "<matplotlib.legend.Legend at 0x25c42149d90>"
      ]
     },
     "execution_count": 79,
     "metadata": {},
     "output_type": "execute_result"
    },
    {
     "data": {
      "image/png": "[encoded data removed]",
      "text/plain": [
       "<Figure size 640x480 with 1 Axes>"
      ]
     },
     "metadata": {},
     "output_type": "display_data"
    }
   ],
   "source": [
    "plt.pie(df[\"sales\"],labels=df[\"product\"],autopct='%1.1f%%')\n",
    "plt.axis('equal')  # Equal aspect ratio ensures that pie is drawn as a circle.\n",
    "plt.title(\"Sales Distribution by Product\")\n",
    "plt.legend()"
   ]
  },
  {
   "cell_type": "code",
   "execution_count": 90,
   "id": "5b7230f3",
   "metadata": {},
   "outputs": [
    {
     "data": {
      "text/plain": [
       "Text(0, 0.5, 'Frequency')"
      ]
     },
     "execution_count": 90,
     "metadata": {},
     "output_type": "execute_result"
    },
    {
     "data": {
      "image/png": "[encoded data removed]",
      "text/plain": [
       "<Figure size 1000x800 with 4 Axes>"
      ]
     },
     "metadata": {},
     "output_type": "display_data"
    }
   ],
   "source": [
    "fig, ax = plt.subplots(2, 2, figsize=(10, 8))\n",
    "ax[0, 0].plot(df['product'], df['sales'], label='Sales', color='blue', marker='o')\n",
    "ax[0, 0].set_title('Sales of Products')\n",
    "ax[0, 0].set_xlabel('Products')\n",
    "ax[0, 0].set_ylabel('Sales')\n",
    "ax[0, 1].bar(df['product'], df['revenue'], label='Revenue', color='orange')\n",
    "ax[0, 1].set_title('Revenue of Products')\n",
    "ax[0, 1].set_xlabel('Products')\n",
    "ax[0, 1].set_ylabel('Revenue')\n",
    "ax[1, 0].scatter(df['sales'], df['revenue'], color='red', label='Sales vs Revenue')\n",
    "ax[1, 0].set_title('Sales vs Revenue')\n",
    "ax[1, 0].set_xlabel('Sales')\n",
    "ax[1, 0].set_ylabel('Revenue')\n",
    "ax[1, 1].hist(df['sales'], bins=5, color='green', label='Sales Distribution')\n",
    "ax[1, 1].set_title('Sales Distribution')\n",
    "ax[1, 1].set_xlabel('Sales')\n",
    "ax[1, 1].set_ylabel('Frequency')\n"
   ]
  },
  {
   "cell_type": "code",
   "execution_count": 80,
   "id": "d4282361",
   "metadata": {},
   "outputs": [
    {
     "name": "stdout",
     "output_type": "stream",
     "text": [
      "(150, 4)\n",
      "(150,)\n"
     ]
    }
   ],
   "source": [
    "import sklearn\n",
    "from sklearn.datasets import load_iris\n",
    "from sklearn.model_selection import train_test_split\n",
    "from sklearn.preprocessing import StandardScaler\n",
    "\n",
    "iris=load_iris()\n",
    "X=iris.data\n",
    "y=iris.target\n",
    "print(X.shape)\n",
    "print(y.shape)"
   ]
  },
  {
   "cell_type": "code",
   "execution_count": 83,
   "id": "3ae7d6e4",
   "metadata": {},
   "outputs": [
    {
     "name": "stdout",
     "output_type": "stream",
     "text": [
      "(105, 4)\n",
      "(45, 4)\n",
      "(105,)\n",
      "(45,)\n"
     ]
    }
   ],
   "source": [
    "X_train,X_test,y_train,y_test= train_test_split(X,y,test_size=0.3,random_state=42)\n",
    "print(X_train.shape)\n",
    "print(X_test.shape) \n",
    "print(y_train.shape)\n",
    "print(y_test.shape)"
   ]
  },
  {
   "cell_type": "code",
   "execution_count": 85,
   "id": "80903e1f",
   "metadata": {},
   "outputs": [
    {
     "name": "stdout",
     "output_type": "stream",
     "text": [
      "[[5.5 2.4 3.7 1. ]\n",
      " [6.3 2.8 5.1 1.5]\n",
      " [6.4 3.1 5.5 1.8]\n",
      " [6.6 3.  4.4 1.4]\n",
      " [7.2 3.6 6.1 2.5]]\n"
     ]
    }
   ],
   "source": [
    "print(X_train[0:5])"
   ]
  },
  {
   "cell_type": "code",
   "execution_count": 86,
   "id": "ed6aa23d",
   "metadata": {},
   "outputs": [
    {
     "name": "stdout",
     "output_type": "stream",
     "text": [
      "[[-0.4134164  -1.46200287 -0.09951105 -0.32339776]\n",
      " [ 0.55122187 -0.50256349  0.71770262  0.35303182]\n",
      " [ 0.67180165  0.21701605  0.95119225  0.75888956]\n",
      " [ 0.91296121 -0.02284379  0.30909579  0.2177459 ]\n",
      " [ 1.63643991  1.41631528  1.30142668  1.70589097]]\n"
     ]
    }
   ],
   "source": [
    "scalar= StandardScaler()\n",
    "X_train_scaled= scalar.fit_transform(X_train)\n",
    "X_test_scaled= scalar.transform(X_test)\n",
    "print(X_train_scaled[0:5])\n"
   ]
  },
  {
   "cell_type": "code",
   "execution_count": 110,
   "id": "fad019a7",
   "metadata": {},
   "outputs": [
    {
     "name": "stdout",
     "output_type": "stream",
     "text": [
      "       make     model   price  mileage  year   color\n",
      "0    Toyota     Camry   24000  30000.0  2020     Red\n",
      "1     Honda     Civic   22000  25000.0  2019    Blue\n",
      "2      Ford     Focus   18000  40000.0  2018   Black\n",
      "3      Ford     Focus   18000  40000.0  2018   Black\n",
      "4       BMW  3 Series   35000  22000.0  2021    Gray\n",
      "5   Hyundai   Elantra   19000      NaN  2020  Silver\n",
      "6       Kia  Sportage   23000  31000.0  2021   Green\n",
      "7      Audi        A4   40000  18000.0  2022   Black\n",
      "8       NaN    Altima   20000  33000.0  2019   White\n",
      "9  Mercedes   C-Class  999999      5.0  2050    None\n"
     ]
    }
   ],
   "source": [
    "import pandas as pd\n",
    "import numpy as np\n",
    "\n",
    "data = {\n",
    "    'make': ['Toyota', 'Honda', 'Ford', 'Ford', 'BMW', 'Hyundai', 'Kia', 'Audi', np.nan, 'Mercedes'],\n",
    "    'model': ['Camry', 'Civic', 'Focus', 'Focus', '3 Series', 'Elantra', 'Sportage', 'A4', 'Altima', 'C-Class'],\n",
    "    'price': [24000, 22000, 18000, 18000, 35000, 19000, 23000, 40000, 20000, 999999],  # 999999 is an outlier\n",
    "    'mileage': [30000, 25000, 40000, 40000, 22000, np.nan, 31000, 18000, 33000, 5],     # 5 is an outlier\n",
    "    'year': [2020, 2019, 2018, 2018, 2021, 2020, 2021, 2022, 2019, 2050],              # 2050 is future year outlier\n",
    "    'color': ['Red', 'Blue', 'Black', 'Black', 'Gray', 'Silver', 'Green', 'Black', 'White', None]\n",
    "}\n",
    "\n",
    "df = pd.DataFrame(data)\n",
    "\n",
    "print(df)\n"
   ]
  },
  {
   "cell_type": "code",
   "execution_count": 111,
   "id": "65419724",
   "metadata": {},
   "outputs": [
    {
     "data": {
      "text/html": [
       "<div>\n",
       "<style scoped>\n",
       "    .dataframe tbody tr th:only-of-type {\n",
       "        vertical-align: middle;\n",
       "    }\n",
       "\n",
       "    .dataframe tbody tr th {\n",
       "        vertical-align: top;\n",
       "    }\n",
       "\n",
       "    .dataframe thead th {\n",
       "        text-align: right;\n",
       "    }\n",
       "</style>\n",
       "<table border=\"1\" class=\"dataframe\">\n",
       "  <thead>\n",
       "    <tr style=\"text-align: right;\">\n",
       "      <th></th>\n",
       "      <th>make</th>\n",
       "      <th>model</th>\n",
       "      <th>price</th>\n",
       "      <th>mileage</th>\n",
       "      <th>year</th>\n",
       "      <th>color</th>\n",
       "    </tr>\n",
       "  </thead>\n",
       "  <tbody>\n",
       "    <tr>\n",
       "      <th>0</th>\n",
       "      <td>Toyota</td>\n",
       "      <td>Camry</td>\n",
       "      <td>24000</td>\n",
       "      <td>30000.0</td>\n",
       "      <td>2020</td>\n",
       "      <td>Red</td>\n",
       "    </tr>\n",
       "    <tr>\n",
       "      <th>1</th>\n",
       "      <td>Honda</td>\n",
       "      <td>Civic</td>\n",
       "      <td>22000</td>\n",
       "      <td>25000.0</td>\n",
       "      <td>2019</td>\n",
       "      <td>Blue</td>\n",
       "    </tr>\n",
       "    <tr>\n",
       "      <th>2</th>\n",
       "      <td>Ford</td>\n",
       "      <td>Focus</td>\n",
       "      <td>18000</td>\n",
       "      <td>40000.0</td>\n",
       "      <td>2018</td>\n",
       "      <td>Black</td>\n",
       "    </tr>\n",
       "    <tr>\n",
       "      <th>4</th>\n",
       "      <td>BMW</td>\n",
       "      <td>3 Series</td>\n",
       "      <td>35000</td>\n",
       "      <td>22000.0</td>\n",
       "      <td>2021</td>\n",
       "      <td>Gray</td>\n",
       "    </tr>\n",
       "    <tr>\n",
       "      <th>5</th>\n",
       "      <td>Hyundai</td>\n",
       "      <td>Elantra</td>\n",
       "      <td>19000</td>\n",
       "      <td>NaN</td>\n",
       "      <td>2020</td>\n",
       "      <td>Silver</td>\n",
       "    </tr>\n",
       "    <tr>\n",
       "      <th>6</th>\n",
       "      <td>Kia</td>\n",
       "      <td>Sportage</td>\n",
       "      <td>23000</td>\n",
       "      <td>31000.0</td>\n",
       "      <td>2021</td>\n",
       "      <td>Green</td>\n",
       "    </tr>\n",
       "    <tr>\n",
       "      <th>7</th>\n",
       "      <td>Audi</td>\n",
       "      <td>A4</td>\n",
       "      <td>40000</td>\n",
       "      <td>18000.0</td>\n",
       "      <td>2022</td>\n",
       "      <td>Black</td>\n",
       "    </tr>\n",
       "    <tr>\n",
       "      <th>8</th>\n",
       "      <td>NaN</td>\n",
       "      <td>Altima</td>\n",
       "      <td>20000</td>\n",
       "      <td>33000.0</td>\n",
       "      <td>2019</td>\n",
       "      <td>White</td>\n",
       "    </tr>\n",
       "    <tr>\n",
       "      <th>9</th>\n",
       "      <td>Mercedes</td>\n",
       "      <td>C-Class</td>\n",
       "      <td>999999</td>\n",
       "      <td>5.0</td>\n",
       "      <td>2050</td>\n",
       "      <td>None</td>\n",
       "    </tr>\n",
       "  </tbody>\n",
       "</table>\n",
       "</div>"
      ],
      "text/plain": [
       "       make     model   price  mileage  year   color\n",
       "0    Toyota     Camry   24000  30000.0  2020     Red\n",
       "1     Honda     Civic   22000  25000.0  2019    Blue\n",
       "2      Ford     Focus   18000  40000.0  2018   Black\n",
       "4       BMW  3 Series   35000  22000.0  2021    Gray\n",
       "5   Hyundai   Elantra   19000      NaN  2020  Silver\n",
       "6       Kia  Sportage   23000  31000.0  2021   Green\n",
       "7      Audi        A4   40000  18000.0  2022   Black\n",
       "8       NaN    Altima   20000  33000.0  2019   White\n",
       "9  Mercedes   C-Class  999999      5.0  2050    None"
      ]
     },
     "execution_count": 111,
     "metadata": {},
     "output_type": "execute_result"
    }
   ],
   "source": [
    "df.drop_duplicates(inplace=True)\n",
    "df"
   ]
  },
  {
   "cell_type": "code",
   "execution_count": 112,
   "id": "bdbc45f1",
   "metadata": {},
   "outputs": [
    {
     "data": {
      "text/plain": [
       "<Axes: ylabel='year'>"
      ]
     },
     "execution_count": 112,
     "metadata": {},
     "output_type": "execute_result"
    },
    {
     "data": {
      "image/png": "[encoded data removed]",
      "text/plain": [
       "<Figure size 1000x600 with 1 Axes>"
      ]
     },
     "metadata": {},
     "output_type": "display_data"
    }
   ],
   "source": [
    "import matplotlib.pyplot as plt\n",
    "import seaborn as sns\n",
    "plt.figure(figsize=(10, 6))\n",
    "sns.boxplot(df[\"year\"])\n"
   ]
  },
  {
   "cell_type": "code",
   "execution_count": 115,
   "id": "8924cdaf",
   "metadata": {},
   "outputs": [],
   "source": [
    "df['mileage'] = df['mileage'].fillna(df['mileage'].mean())\n",
    "df['make'] = df['make'].fillna(df['make'].mode()[0])\n",
    "df['color'] = df['color'].fillna(df['color'].mode()[0])\n"
   ]
  },
  {
   "cell_type": "code",
   "execution_count": 116,
   "id": "fb11c810",
   "metadata": {},
   "outputs": [
    {
     "data": {
      "text/html": [
       "<div>\n",
       "<style scoped>\n",
       "    .dataframe tbody tr th:only-of-type {\n",
       "        vertical-align: middle;\n",
       "    }\n",
       "\n",
       "    .dataframe tbody tr th {\n",
       "        vertical-align: top;\n",
       "    }\n",
       "\n",
       "    .dataframe thead th {\n",
       "        text-align: right;\n",
       "    }\n",
       "</style>\n",
       "<table border=\"1\" class=\"dataframe\">\n",
       "  <thead>\n",
       "    <tr style=\"text-align: right;\">\n",
       "      <th></th>\n",
       "      <th>make</th>\n",
       "      <th>model</th>\n",
       "      <th>price</th>\n",
       "      <th>mileage</th>\n",
       "      <th>year</th>\n",
       "      <th>color</th>\n",
       "    </tr>\n",
       "  </thead>\n",
       "  <tbody>\n",
       "    <tr>\n",
       "      <th>0</th>\n",
       "      <td>Toyota</td>\n",
       "      <td>Camry</td>\n",
       "      <td>24000</td>\n",
       "      <td>30000.000</td>\n",
       "      <td>2020</td>\n",
       "      <td>Red</td>\n",
       "    </tr>\n",
       "    <tr>\n",
       "      <th>1</th>\n",
       "      <td>Honda</td>\n",
       "      <td>Civic</td>\n",
       "      <td>22000</td>\n",
       "      <td>25000.000</td>\n",
       "      <td>2019</td>\n",
       "      <td>Blue</td>\n",
       "    </tr>\n",
       "    <tr>\n",
       "      <th>2</th>\n",
       "      <td>Ford</td>\n",
       "      <td>Focus</td>\n",
       "      <td>18000</td>\n",
       "      <td>40000.000</td>\n",
       "      <td>2018</td>\n",
       "      <td>Black</td>\n",
       "    </tr>\n",
       "    <tr>\n",
       "      <th>4</th>\n",
       "      <td>BMW</td>\n",
       "      <td>3 Series</td>\n",
       "      <td>35000</td>\n",
       "      <td>22000.000</td>\n",
       "      <td>2021</td>\n",
       "      <td>Gray</td>\n",
       "    </tr>\n",
       "    <tr>\n",
       "      <th>5</th>\n",
       "      <td>Hyundai</td>\n",
       "      <td>Elantra</td>\n",
       "      <td>19000</td>\n",
       "      <td>24875.625</td>\n",
       "      <td>2020</td>\n",
       "      <td>Silver</td>\n",
       "    </tr>\n",
       "    <tr>\n",
       "      <th>6</th>\n",
       "      <td>Kia</td>\n",
       "      <td>Sportage</td>\n",
       "      <td>23000</td>\n",
       "      <td>31000.000</td>\n",
       "      <td>2021</td>\n",
       "      <td>Green</td>\n",
       "    </tr>\n",
       "    <tr>\n",
       "      <th>7</th>\n",
       "      <td>Audi</td>\n",
       "      <td>A4</td>\n",
       "      <td>40000</td>\n",
       "      <td>18000.000</td>\n",
       "      <td>2022</td>\n",
       "      <td>Black</td>\n",
       "    </tr>\n",
       "    <tr>\n",
       "      <th>8</th>\n",
       "      <td>Audi</td>\n",
       "      <td>Altima</td>\n",
       "      <td>20000</td>\n",
       "      <td>33000.000</td>\n",
       "      <td>2019</td>\n",
       "      <td>White</td>\n",
       "    </tr>\n",
       "    <tr>\n",
       "      <th>9</th>\n",
       "      <td>Mercedes</td>\n",
       "      <td>C-Class</td>\n",
       "      <td>999999</td>\n",
       "      <td>5.000</td>\n",
       "      <td>2050</td>\n",
       "      <td>Black</td>\n",
       "    </tr>\n",
       "  </tbody>\n",
       "</table>\n",
       "</div>"
      ],
      "text/plain": [
       "       make     model   price    mileage  year   color\n",
       "0    Toyota     Camry   24000  30000.000  2020     Red\n",
       "1     Honda     Civic   22000  25000.000  2019    Blue\n",
       "2      Ford     Focus   18000  40000.000  2018   Black\n",
       "4       BMW  3 Series   35000  22000.000  2021    Gray\n",
       "5   Hyundai   Elantra   19000  24875.625  2020  Silver\n",
       "6       Kia  Sportage   23000  31000.000  2021   Green\n",
       "7      Audi        A4   40000  18000.000  2022   Black\n",
       "8      Audi    Altima   20000  33000.000  2019   White\n",
       "9  Mercedes   C-Class  999999      5.000  2050   Black"
      ]
     },
     "execution_count": 116,
     "metadata": {},
     "output_type": "execute_result"
    }
   ],
   "source": [
    "df"
   ]
  },
  {
   "cell_type": "code",
   "execution_count": 118,
   "id": "e9f4aa9a",
   "metadata": {},
   "outputs": [
    {
     "data": {
      "text/html": [
       "<div>\n",
       "<style scoped>\n",
       "    .dataframe tbody tr th:only-of-type {\n",
       "        vertical-align: middle;\n",
       "    }\n",
       "\n",
       "    .dataframe tbody tr th {\n",
       "        vertical-align: top;\n",
       "    }\n",
       "\n",
       "    .dataframe thead th {\n",
       "        text-align: right;\n",
       "    }\n",
       "</style>\n",
       "<table border=\"1\" class=\"dataframe\">\n",
       "  <thead>\n",
       "    <tr style=\"text-align: right;\">\n",
       "      <th></th>\n",
       "      <th>make</th>\n",
       "      <th>model</th>\n",
       "      <th>price</th>\n",
       "      <th>mileage</th>\n",
       "      <th>year</th>\n",
       "      <th>color</th>\n",
       "      <th>labels</th>\n",
       "    </tr>\n",
       "  </thead>\n",
       "  <tbody>\n",
       "    <tr>\n",
       "      <th>0</th>\n",
       "      <td>Toyota</td>\n",
       "      <td>Camry</td>\n",
       "      <td>24000</td>\n",
       "      <td>30000.000</td>\n",
       "      <td>2020</td>\n",
       "      <td>Red</td>\n",
       "      <td>7</td>\n",
       "    </tr>\n",
       "    <tr>\n",
       "      <th>1</th>\n",
       "      <td>Honda</td>\n",
       "      <td>Civic</td>\n",
       "      <td>22000</td>\n",
       "      <td>25000.000</td>\n",
       "      <td>2019</td>\n",
       "      <td>Blue</td>\n",
       "      <td>3</td>\n",
       "    </tr>\n",
       "    <tr>\n",
       "      <th>2</th>\n",
       "      <td>Ford</td>\n",
       "      <td>Focus</td>\n",
       "      <td>18000</td>\n",
       "      <td>40000.000</td>\n",
       "      <td>2018</td>\n",
       "      <td>Black</td>\n",
       "      <td>2</td>\n",
       "    </tr>\n",
       "    <tr>\n",
       "      <th>4</th>\n",
       "      <td>BMW</td>\n",
       "      <td>3 Series</td>\n",
       "      <td>35000</td>\n",
       "      <td>22000.000</td>\n",
       "      <td>2021</td>\n",
       "      <td>Gray</td>\n",
       "      <td>1</td>\n",
       "    </tr>\n",
       "    <tr>\n",
       "      <th>5</th>\n",
       "      <td>Hyundai</td>\n",
       "      <td>Elantra</td>\n",
       "      <td>19000</td>\n",
       "      <td>24875.625</td>\n",
       "      <td>2020</td>\n",
       "      <td>Silver</td>\n",
       "      <td>4</td>\n",
       "    </tr>\n",
       "    <tr>\n",
       "      <th>6</th>\n",
       "      <td>Kia</td>\n",
       "      <td>Sportage</td>\n",
       "      <td>23000</td>\n",
       "      <td>31000.000</td>\n",
       "      <td>2021</td>\n",
       "      <td>Green</td>\n",
       "      <td>5</td>\n",
       "    </tr>\n",
       "    <tr>\n",
       "      <th>7</th>\n",
       "      <td>Audi</td>\n",
       "      <td>A4</td>\n",
       "      <td>40000</td>\n",
       "      <td>18000.000</td>\n",
       "      <td>2022</td>\n",
       "      <td>Black</td>\n",
       "      <td>0</td>\n",
       "    </tr>\n",
       "    <tr>\n",
       "      <th>8</th>\n",
       "      <td>Audi</td>\n",
       "      <td>Altima</td>\n",
       "      <td>20000</td>\n",
       "      <td>33000.000</td>\n",
       "      <td>2019</td>\n",
       "      <td>White</td>\n",
       "      <td>0</td>\n",
       "    </tr>\n",
       "    <tr>\n",
       "      <th>9</th>\n",
       "      <td>Mercedes</td>\n",
       "      <td>C-Class</td>\n",
       "      <td>999999</td>\n",
       "      <td>5.000</td>\n",
       "      <td>2050</td>\n",
       "      <td>Black</td>\n",
       "      <td>6</td>\n",
       "    </tr>\n",
       "  </tbody>\n",
       "</table>\n",
       "</div>"
      ],
      "text/plain": [
       "       make     model   price    mileage  year   color  labels\n",
       "0    Toyota     Camry   24000  30000.000  2020     Red       7\n",
       "1     Honda     Civic   22000  25000.000  2019    Blue       3\n",
       "2      Ford     Focus   18000  40000.000  2018   Black       2\n",
       "4       BMW  3 Series   35000  22000.000  2021    Gray       1\n",
       "5   Hyundai   Elantra   19000  24875.625  2020  Silver       4\n",
       "6       Kia  Sportage   23000  31000.000  2021   Green       5\n",
       "7      Audi        A4   40000  18000.000  2022   Black       0\n",
       "8      Audi    Altima   20000  33000.000  2019   White       0\n",
       "9  Mercedes   C-Class  999999      5.000  2050   Black       6"
      ]
     },
     "execution_count": 118,
     "metadata": {},
     "output_type": "execute_result"
    }
   ],
   "source": [
    "from sklearn.preprocessing import LabelEncoder\n",
    "label_encoder = LabelEncoder()\n",
    "df[\"labels\"]=label_encoder.fit_transform(df[\"make\"])\n",
    "df\n"
   ]
  },
  {
   "cell_type": "code",
   "execution_count": 124,
   "id": "377a5a8a",
   "metadata": {},
   "outputs": [
    {
     "data": {
      "text/html": [
       "<div>\n",
       "<style scoped>\n",
       "    .dataframe tbody tr th:only-of-type {\n",
       "        vertical-align: middle;\n",
       "    }\n",
       "\n",
       "    .dataframe tbody tr th {\n",
       "        vertical-align: top;\n",
       "    }\n",
       "\n",
       "    .dataframe thead th {\n",
       "        text-align: right;\n",
       "    }\n",
       "</style>\n",
       "<table border=\"1\" class=\"dataframe\">\n",
       "  <thead>\n",
       "    <tr style=\"text-align: right;\">\n",
       "      <th></th>\n",
       "      <th>make</th>\n",
       "      <th>model</th>\n",
       "      <th>price</th>\n",
       "      <th>mileage</th>\n",
       "      <th>year</th>\n",
       "      <th>labels</th>\n",
       "      <th>color_Black</th>\n",
       "      <th>color_Blue</th>\n",
       "      <th>color_Gray</th>\n",
       "      <th>color_Green</th>\n",
       "      <th>color_Red</th>\n",
       "      <th>color_Silver</th>\n",
       "      <th>color_White</th>\n",
       "    </tr>\n",
       "  </thead>\n",
       "  <tbody>\n",
       "    <tr>\n",
       "      <th>0</th>\n",
       "      <td>Toyota</td>\n",
       "      <td>Camry</td>\n",
       "      <td>24000</td>\n",
       "      <td>30000.000</td>\n",
       "      <td>2020</td>\n",
       "      <td>7</td>\n",
       "      <td>False</td>\n",
       "      <td>False</td>\n",
       "      <td>False</td>\n",
       "      <td>False</td>\n",
       "      <td>True</td>\n",
       "      <td>False</td>\n",
       "      <td>False</td>\n",
       "    </tr>\n",
       "    <tr>\n",
       "      <th>1</th>\n",
       "      <td>Honda</td>\n",
       "      <td>Civic</td>\n",
       "      <td>22000</td>\n",
       "      <td>25000.000</td>\n",
       "      <td>2019</td>\n",
       "      <td>3</td>\n",
       "      <td>False</td>\n",
       "      <td>True</td>\n",
       "      <td>False</td>\n",
       "      <td>False</td>\n",
       "      <td>False</td>\n",
       "      <td>False</td>\n",
       "      <td>False</td>\n",
       "    </tr>\n",
       "    <tr>\n",
       "      <th>2</th>\n",
       "      <td>Ford</td>\n",
       "      <td>Focus</td>\n",
       "      <td>18000</td>\n",
       "      <td>40000.000</td>\n",
       "      <td>2018</td>\n",
       "      <td>2</td>\n",
       "      <td>True</td>\n",
       "      <td>False</td>\n",
       "      <td>False</td>\n",
       "      <td>False</td>\n",
       "      <td>False</td>\n",
       "      <td>False</td>\n",
       "      <td>False</td>\n",
       "    </tr>\n",
       "    <tr>\n",
       "      <th>4</th>\n",
       "      <td>BMW</td>\n",
       "      <td>3 Series</td>\n",
       "      <td>35000</td>\n",
       "      <td>22000.000</td>\n",
       "      <td>2021</td>\n",
       "      <td>1</td>\n",
       "      <td>False</td>\n",
       "      <td>False</td>\n",
       "      <td>True</td>\n",
       "      <td>False</td>\n",
       "      <td>False</td>\n",
       "      <td>False</td>\n",
       "      <td>False</td>\n",
       "    </tr>\n",
       "    <tr>\n",
       "      <th>5</th>\n",
       "      <td>Hyundai</td>\n",
       "      <td>Elantra</td>\n",
       "      <td>19000</td>\n",
       "      <td>24875.625</td>\n",
       "      <td>2020</td>\n",
       "      <td>4</td>\n",
       "      <td>False</td>\n",
       "      <td>False</td>\n",
       "      <td>False</td>\n",
       "      <td>False</td>\n",
       "      <td>False</td>\n",
       "      <td>True</td>\n",
       "      <td>False</td>\n",
       "    </tr>\n",
       "    <tr>\n",
       "      <th>6</th>\n",
       "      <td>Kia</td>\n",
       "      <td>Sportage</td>\n",
       "      <td>23000</td>\n",
       "      <td>31000.000</td>\n",
       "      <td>2021</td>\n",
       "      <td>5</td>\n",
       "      <td>False</td>\n",
       "      <td>False</td>\n",
       "      <td>False</td>\n",
       "      <td>True</td>\n",
       "      <td>False</td>\n",
       "      <td>False</td>\n",
       "      <td>False</td>\n",
       "    </tr>\n",
       "    <tr>\n",
       "      <th>7</th>\n",
       "      <td>Audi</td>\n",
       "      <td>A4</td>\n",
       "      <td>40000</td>\n",
       "      <td>18000.000</td>\n",
       "      <td>2022</td>\n",
       "      <td>0</td>\n",
       "      <td>True</td>\n",
       "      <td>False</td>\n",
       "      <td>False</td>\n",
       "      <td>False</td>\n",
       "      <td>False</td>\n",
       "      <td>False</td>\n",
       "      <td>False</td>\n",
       "    </tr>\n",
       "    <tr>\n",
       "      <th>8</th>\n",
       "      <td>Audi</td>\n",
       "      <td>Altima</td>\n",
       "      <td>20000</td>\n",
       "      <td>33000.000</td>\n",
       "      <td>2019</td>\n",
       "      <td>0</td>\n",
       "      <td>False</td>\n",
       "      <td>False</td>\n",
       "      <td>False</td>\n",
       "      <td>False</td>\n",
       "      <td>False</td>\n",
       "      <td>False</td>\n",
       "      <td>True</td>\n",
       "    </tr>\n",
       "    <tr>\n",
       "      <th>9</th>\n",
       "      <td>Mercedes</td>\n",
       "      <td>C-Class</td>\n",
       "      <td>999999</td>\n",
       "      <td>5.000</td>\n",
       "      <td>2050</td>\n",
       "      <td>6</td>\n",
       "      <td>True</td>\n",
       "      <td>False</td>\n",
       "      <td>False</td>\n",
       "      <td>False</td>\n",
       "      <td>False</td>\n",
       "      <td>False</td>\n",
       "      <td>False</td>\n",
       "    </tr>\n",
       "  </tbody>\n",
       "</table>\n",
       "</div>"
      ],
      "text/plain": [
       "       make     model   price    mileage  year  labels  color_Black  \\\n",
       "0    Toyota     Camry   24000  30000.000  2020       7        False   \n",
       "1     Honda     Civic   22000  25000.000  2019       3        False   \n",
       "2      Ford     Focus   18000  40000.000  2018       2         True   \n",
       "4       BMW  3 Series   35000  22000.000  2021       1        False   \n",
       "5   Hyundai   Elantra   19000  24875.625  2020       4        False   \n",
       "6       Kia  Sportage   23000  31000.000  2021       5        False   \n",
       "7      Audi        A4   40000  18000.000  2022       0         True   \n",
       "8      Audi    Altima   20000  33000.000  2019       0        False   \n",
       "9  Mercedes   C-Class  999999      5.000  2050       6         True   \n",
       "\n",
       "   color_Blue  color_Gray  color_Green  color_Red  color_Silver  color_White  \n",
       "0       False       False        False       True         False        False  \n",
       "1        True       False        False      False         False        False  \n",
       "2       False       False        False      False         False        False  \n",
       "4       False        True        False      False         False        False  \n",
       "5       False       False        False      False          True        False  \n",
       "6       False       False         True      False         False        False  \n",
       "7       False       False        False      False         False        False  \n",
       "8       False       False        False      False         False         True  \n",
       "9       False       False        False      False         False        False  "
      ]
     },
     "execution_count": 124,
     "metadata": {},
     "output_type": "execute_result"
    }
   ],
   "source": [
    "onehot=pd.get_dummies(df,columns=[\"color\"])\n",
    "onehot"
   ]
  },
  {
   "cell_type": "code",
   "execution_count": 125,
   "id": "9861985d",
   "metadata": {},
   "outputs": [
    {
     "data": {
      "text/html": [
       "<div>\n",
       "<style scoped>\n",
       "    .dataframe tbody tr th:only-of-type {\n",
       "        vertical-align: middle;\n",
       "    }\n",
       "\n",
       "    .dataframe tbody tr th {\n",
       "        vertical-align: top;\n",
       "    }\n",
       "\n",
       "    .dataframe thead th {\n",
       "        text-align: right;\n",
       "    }\n",
       "</style>\n",
       "<table border=\"1\" class=\"dataframe\">\n",
       "  <thead>\n",
       "    <tr style=\"text-align: right;\">\n",
       "      <th></th>\n",
       "      <th>make</th>\n",
       "      <th>model</th>\n",
       "      <th>price</th>\n",
       "      <th>mileage</th>\n",
       "      <th>year</th>\n",
       "      <th>color</th>\n",
       "      <th>labels</th>\n",
       "    </tr>\n",
       "  </thead>\n",
       "  <tbody>\n",
       "    <tr>\n",
       "      <th>0</th>\n",
       "      <td>Toyota</td>\n",
       "      <td>Camry</td>\n",
       "      <td>0.006110</td>\n",
       "      <td>30000.000</td>\n",
       "      <td>2020</td>\n",
       "      <td>Red</td>\n",
       "      <td>7</td>\n",
       "    </tr>\n",
       "    <tr>\n",
       "      <th>1</th>\n",
       "      <td>Honda</td>\n",
       "      <td>Civic</td>\n",
       "      <td>0.004073</td>\n",
       "      <td>25000.000</td>\n",
       "      <td>2019</td>\n",
       "      <td>Blue</td>\n",
       "      <td>3</td>\n",
       "    </tr>\n",
       "    <tr>\n",
       "      <th>2</th>\n",
       "      <td>Ford</td>\n",
       "      <td>Focus</td>\n",
       "      <td>0.000000</td>\n",
       "      <td>40000.000</td>\n",
       "      <td>2018</td>\n",
       "      <td>Black</td>\n",
       "      <td>2</td>\n",
       "    </tr>\n",
       "    <tr>\n",
       "      <th>4</th>\n",
       "      <td>BMW</td>\n",
       "      <td>3 Series</td>\n",
       "      <td>0.017312</td>\n",
       "      <td>22000.000</td>\n",
       "      <td>2021</td>\n",
       "      <td>Gray</td>\n",
       "      <td>1</td>\n",
       "    </tr>\n",
       "    <tr>\n",
       "      <th>5</th>\n",
       "      <td>Hyundai</td>\n",
       "      <td>Elantra</td>\n",
       "      <td>0.001018</td>\n",
       "      <td>24875.625</td>\n",
       "      <td>2020</td>\n",
       "      <td>Silver</td>\n",
       "      <td>4</td>\n",
       "    </tr>\n",
       "    <tr>\n",
       "      <th>6</th>\n",
       "      <td>Kia</td>\n",
       "      <td>Sportage</td>\n",
       "      <td>0.005092</td>\n",
       "      <td>31000.000</td>\n",
       "      <td>2021</td>\n",
       "      <td>Green</td>\n",
       "      <td>5</td>\n",
       "    </tr>\n",
       "    <tr>\n",
       "      <th>7</th>\n",
       "      <td>Audi</td>\n",
       "      <td>A4</td>\n",
       "      <td>0.022403</td>\n",
       "      <td>18000.000</td>\n",
       "      <td>2022</td>\n",
       "      <td>Black</td>\n",
       "      <td>0</td>\n",
       "    </tr>\n",
       "    <tr>\n",
       "      <th>8</th>\n",
       "      <td>Audi</td>\n",
       "      <td>Altima</td>\n",
       "      <td>0.002037</td>\n",
       "      <td>33000.000</td>\n",
       "      <td>2019</td>\n",
       "      <td>White</td>\n",
       "      <td>0</td>\n",
       "    </tr>\n",
       "    <tr>\n",
       "      <th>9</th>\n",
       "      <td>Mercedes</td>\n",
       "      <td>C-Class</td>\n",
       "      <td>1.000000</td>\n",
       "      <td>5.000</td>\n",
       "      <td>2050</td>\n",
       "      <td>Black</td>\n",
       "      <td>6</td>\n",
       "    </tr>\n",
       "  </tbody>\n",
       "</table>\n",
       "</div>"
      ],
      "text/plain": [
       "       make     model     price    mileage  year   color  labels\n",
       "0    Toyota     Camry  0.006110  30000.000  2020     Red       7\n",
       "1     Honda     Civic  0.004073  25000.000  2019    Blue       3\n",
       "2      Ford     Focus  0.000000  40000.000  2018   Black       2\n",
       "4       BMW  3 Series  0.017312  22000.000  2021    Gray       1\n",
       "5   Hyundai   Elantra  0.001018  24875.625  2020  Silver       4\n",
       "6       Kia  Sportage  0.005092  31000.000  2021   Green       5\n",
       "7      Audi        A4  0.022403  18000.000  2022   Black       0\n",
       "8      Audi    Altima  0.002037  33000.000  2019   White       0\n",
       "9  Mercedes   C-Class  1.000000      5.000  2050   Black       6"
      ]
     },
     "execution_count": 125,
     "metadata": {},
     "output_type": "execute_result"
    }
   ],
   "source": [
    "from sklearn.preprocessing import MinMaxScaler\n",
    "scaler= MinMaxScaler()\n",
    "df[\"price\"]=scaler.fit_transform(df[[\"price\"]])\n",
    "df"
   ]
  },
  {
   "cell_type": "code",
   "execution_count": 127,
   "id": "03e1a7d5",
   "metadata": {},
   "outputs": [
    {
     "data": {
      "text/html": [
       "<div>\n",
       "<style scoped>\n",
       "    .dataframe tbody tr th:only-of-type {\n",
       "        vertical-align: middle;\n",
       "    }\n",
       "\n",
       "    .dataframe tbody tr th {\n",
       "        vertical-align: top;\n",
       "    }\n",
       "\n",
       "    .dataframe thead th {\n",
       "        text-align: right;\n",
       "    }\n",
       "</style>\n",
       "<table border=\"1\" class=\"dataframe\">\n",
       "  <thead>\n",
       "    <tr style=\"text-align: right;\">\n",
       "      <th></th>\n",
       "      <th>make</th>\n",
       "      <th>model</th>\n",
       "      <th>price</th>\n",
       "      <th>mileage</th>\n",
       "      <th>year</th>\n",
       "      <th>color</th>\n",
       "      <th>labels</th>\n",
       "    </tr>\n",
       "  </thead>\n",
       "  <tbody>\n",
       "    <tr>\n",
       "      <th>0</th>\n",
       "      <td>Toyota</td>\n",
       "      <td>Camry</td>\n",
       "      <td>0.006110</td>\n",
       "      <td>0.478399</td>\n",
       "      <td>2020</td>\n",
       "      <td>Red</td>\n",
       "      <td>7</td>\n",
       "    </tr>\n",
       "    <tr>\n",
       "      <th>1</th>\n",
       "      <td>Honda</td>\n",
       "      <td>Civic</td>\n",
       "      <td>0.004073</td>\n",
       "      <td>0.011611</td>\n",
       "      <td>2019</td>\n",
       "      <td>Blue</td>\n",
       "      <td>3</td>\n",
       "    </tr>\n",
       "    <tr>\n",
       "      <th>2</th>\n",
       "      <td>Ford</td>\n",
       "      <td>Focus</td>\n",
       "      <td>0.000000</td>\n",
       "      <td>1.411975</td>\n",
       "      <td>2018</td>\n",
       "      <td>Black</td>\n",
       "      <td>2</td>\n",
       "    </tr>\n",
       "    <tr>\n",
       "      <th>4</th>\n",
       "      <td>BMW</td>\n",
       "      <td>3 Series</td>\n",
       "      <td>0.017312</td>\n",
       "      <td>-0.268461</td>\n",
       "      <td>2021</td>\n",
       "      <td>Gray</td>\n",
       "      <td>1</td>\n",
       "    </tr>\n",
       "    <tr>\n",
       "      <th>5</th>\n",
       "      <td>Hyundai</td>\n",
       "      <td>Elantra</td>\n",
       "      <td>0.001018</td>\n",
       "      <td>0.000000</td>\n",
       "      <td>2020</td>\n",
       "      <td>Silver</td>\n",
       "      <td>4</td>\n",
       "    </tr>\n",
       "    <tr>\n",
       "      <th>6</th>\n",
       "      <td>Kia</td>\n",
       "      <td>Sportage</td>\n",
       "      <td>0.005092</td>\n",
       "      <td>0.571757</td>\n",
       "      <td>2021</td>\n",
       "      <td>Green</td>\n",
       "      <td>5</td>\n",
       "    </tr>\n",
       "    <tr>\n",
       "      <th>7</th>\n",
       "      <td>Audi</td>\n",
       "      <td>A4</td>\n",
       "      <td>0.022403</td>\n",
       "      <td>-0.641892</td>\n",
       "      <td>2022</td>\n",
       "      <td>Black</td>\n",
       "      <td>0</td>\n",
       "    </tr>\n",
       "    <tr>\n",
       "      <th>8</th>\n",
       "      <td>Audi</td>\n",
       "      <td>Altima</td>\n",
       "      <td>0.002037</td>\n",
       "      <td>0.758472</td>\n",
       "      <td>2019</td>\n",
       "      <td>White</td>\n",
       "      <td>0</td>\n",
       "    </tr>\n",
       "    <tr>\n",
       "      <th>9</th>\n",
       "      <td>Mercedes</td>\n",
       "      <td>C-Class</td>\n",
       "      <td>1.000000</td>\n",
       "      <td>-2.321862</td>\n",
       "      <td>2050</td>\n",
       "      <td>Black</td>\n",
       "      <td>6</td>\n",
       "    </tr>\n",
       "  </tbody>\n",
       "</table>\n",
       "</div>"
      ],
      "text/plain": [
       "       make     model     price   mileage  year   color  labels\n",
       "0    Toyota     Camry  0.006110  0.478399  2020     Red       7\n",
       "1     Honda     Civic  0.004073  0.011611  2019    Blue       3\n",
       "2      Ford     Focus  0.000000  1.411975  2018   Black       2\n",
       "4       BMW  3 Series  0.017312 -0.268461  2021    Gray       1\n",
       "5   Hyundai   Elantra  0.001018  0.000000  2020  Silver       4\n",
       "6       Kia  Sportage  0.005092  0.571757  2021   Green       5\n",
       "7      Audi        A4  0.022403 -0.641892  2022   Black       0\n",
       "8      Audi    Altima  0.002037  0.758472  2019   White       0\n",
       "9  Mercedes   C-Class  1.000000 -2.321862  2050   Black       6"
      ]
     },
     "execution_count": 127,
     "metadata": {},
     "output_type": "execute_result"
    }
   ],
   "source": [
    "from sklearn.preprocessing import StandardScaler\n",
    "scaler= StandardScaler()\n",
    "df[\"mileage\"]=scaler.fit_transform(df[[\"mileage\"]])\n",
    "df"
   ]
  },
  {
   "cell_type": "code",
   "execution_count": 132,
   "id": "0bbc6853",
   "metadata": {},
   "outputs": [
    {
     "name": "stdout",
     "output_type": "stream",
     "text": [
      "     age     salary  experience\n",
      "0   25.0    50000.0         2.0\n",
      "1   28.0    55000.0         3.0\n",
      "2   30.0    60000.0         4.0\n",
      "3   22.0    48000.0         1.0\n",
      "4   27.0    52000.0         3.0\n",
      "5  999.0    51000.0         2.0\n",
      "6  -29.0  1500000.0       100.0\n",
      "7   31.0        NaN         4.0\n",
      "8    NaN    58000.0         5.0\n",
      "9   26.0    59000.0         NaN\n"
     ]
    }
   ],
   "source": [
    "import pandas as pd\n",
    "import numpy as np\n",
    "\n",
    "# Create sample data\n",
    "data = {\n",
    "    'age': [25, 28, 30, 22, 27, 999, -29, 31, np.nan, 26],           # 999 is an outlier, NaN included\n",
    "    'salary': [50000, 55000, 60000, 48000, 52000, 51000, 1500000, np.nan, 58000, 59000],  # 1.5 million is outlier\n",
    "    'experience': [2, 3, 4, 1, 3, 2, 100, 4, 5, np.nan]             # 100 is outlier\n",
    "}\n",
    "\n",
    "df = pd.DataFrame(data)\n",
    "print(df)\n"
   ]
  },
  {
   "cell_type": "code",
   "execution_count": 133,
   "id": "65591eaf",
   "metadata": {},
   "outputs": [
    {
     "data": {
      "text/plain": [
       "age           1\n",
       "salary        1\n",
       "experience    1\n",
       "dtype: int64"
      ]
     },
     "execution_count": 133,
     "metadata": {},
     "output_type": "execute_result"
    }
   ],
   "source": [
    "df.isnull().sum()"
   ]
  },
  {
   "cell_type": "code",
   "execution_count": 134,
   "id": "1e9f9f38",
   "metadata": {},
   "outputs": [
    {
     "data": {
      "text/html": [
       "<div>\n",
       "<style scoped>\n",
       "    .dataframe tbody tr th:only-of-type {\n",
       "        vertical-align: middle;\n",
       "    }\n",
       "\n",
       "    .dataframe tbody tr th {\n",
       "        vertical-align: top;\n",
       "    }\n",
       "\n",
       "    .dataframe thead th {\n",
       "        text-align: right;\n",
       "    }\n",
       "</style>\n",
       "<table border=\"1\" class=\"dataframe\">\n",
       "  <thead>\n",
       "    <tr style=\"text-align: right;\">\n",
       "      <th></th>\n",
       "      <th>age</th>\n",
       "      <th>salary</th>\n",
       "      <th>experience</th>\n",
       "    </tr>\n",
       "  </thead>\n",
       "  <tbody>\n",
       "    <tr>\n",
       "      <th>0</th>\n",
       "      <td>25.0</td>\n",
       "      <td>50000.0</td>\n",
       "      <td>2.0</td>\n",
       "    </tr>\n",
       "    <tr>\n",
       "      <th>1</th>\n",
       "      <td>28.0</td>\n",
       "      <td>55000.0</td>\n",
       "      <td>3.0</td>\n",
       "    </tr>\n",
       "    <tr>\n",
       "      <th>2</th>\n",
       "      <td>30.0</td>\n",
       "      <td>60000.0</td>\n",
       "      <td>4.0</td>\n",
       "    </tr>\n",
       "    <tr>\n",
       "      <th>3</th>\n",
       "      <td>22.0</td>\n",
       "      <td>48000.0</td>\n",
       "      <td>1.0</td>\n",
       "    </tr>\n",
       "    <tr>\n",
       "      <th>4</th>\n",
       "      <td>27.0</td>\n",
       "      <td>52000.0</td>\n",
       "      <td>3.0</td>\n",
       "    </tr>\n",
       "    <tr>\n",
       "      <th>5</th>\n",
       "      <td>999.0</td>\n",
       "      <td>51000.0</td>\n",
       "      <td>2.0</td>\n",
       "    </tr>\n",
       "    <tr>\n",
       "      <th>6</th>\n",
       "      <td>-29.0</td>\n",
       "      <td>1500000.0</td>\n",
       "      <td>100.0</td>\n",
       "    </tr>\n",
       "    <tr>\n",
       "      <th>7</th>\n",
       "      <td>31.0</td>\n",
       "      <td>55000.0</td>\n",
       "      <td>4.0</td>\n",
       "    </tr>\n",
       "    <tr>\n",
       "      <th>8</th>\n",
       "      <td>27.0</td>\n",
       "      <td>58000.0</td>\n",
       "      <td>5.0</td>\n",
       "    </tr>\n",
       "    <tr>\n",
       "      <th>9</th>\n",
       "      <td>26.0</td>\n",
       "      <td>59000.0</td>\n",
       "      <td>3.0</td>\n",
       "    </tr>\n",
       "  </tbody>\n",
       "</table>\n",
       "</div>"
      ],
      "text/plain": [
       "     age     salary  experience\n",
       "0   25.0    50000.0         2.0\n",
       "1   28.0    55000.0         3.0\n",
       "2   30.0    60000.0         4.0\n",
       "3   22.0    48000.0         1.0\n",
       "4   27.0    52000.0         3.0\n",
       "5  999.0    51000.0         2.0\n",
       "6  -29.0  1500000.0       100.0\n",
       "7   31.0    55000.0         4.0\n",
       "8   27.0    58000.0         5.0\n",
       "9   26.0    59000.0         3.0"
      ]
     },
     "execution_count": 134,
     "metadata": {},
     "output_type": "execute_result"
    }
   ],
   "source": [
    "df= df.fillna(df.median())\n",
    "df"
   ]
  },
  {
   "cell_type": "code",
   "execution_count": 136,
   "id": "e38e89bb",
   "metadata": {},
   "outputs": [
    {
     "data": {
      "text/html": [
       "<div>\n",
       "<style scoped>\n",
       "    .dataframe tbody tr th:only-of-type {\n",
       "        vertical-align: middle;\n",
       "    }\n",
       "\n",
       "    .dataframe tbody tr th {\n",
       "        vertical-align: top;\n",
       "    }\n",
       "\n",
       "    .dataframe thead th {\n",
       "        text-align: right;\n",
       "    }\n",
       "</style>\n",
       "<table border=\"1\" class=\"dataframe\">\n",
       "  <thead>\n",
       "    <tr style=\"text-align: right;\">\n",
       "      <th></th>\n",
       "      <th>age</th>\n",
       "      <th>salary</th>\n",
       "      <th>experience</th>\n",
       "    </tr>\n",
       "  </thead>\n",
       "  <tbody>\n",
       "    <tr>\n",
       "      <th>0</th>\n",
       "      <td>25.0</td>\n",
       "      <td>50000.0</td>\n",
       "      <td>2.0</td>\n",
       "    </tr>\n",
       "    <tr>\n",
       "      <th>1</th>\n",
       "      <td>28.0</td>\n",
       "      <td>55000.0</td>\n",
       "      <td>3.0</td>\n",
       "    </tr>\n",
       "    <tr>\n",
       "      <th>2</th>\n",
       "      <td>30.0</td>\n",
       "      <td>60000.0</td>\n",
       "      <td>4.0</td>\n",
       "    </tr>\n",
       "    <tr>\n",
       "      <th>3</th>\n",
       "      <td>22.0</td>\n",
       "      <td>48000.0</td>\n",
       "      <td>1.0</td>\n",
       "    </tr>\n",
       "    <tr>\n",
       "      <th>4</th>\n",
       "      <td>27.0</td>\n",
       "      <td>52000.0</td>\n",
       "      <td>3.0</td>\n",
       "    </tr>\n",
       "    <tr>\n",
       "      <th>5</th>\n",
       "      <td>999.0</td>\n",
       "      <td>51000.0</td>\n",
       "      <td>2.0</td>\n",
       "    </tr>\n",
       "    <tr>\n",
       "      <th>6</th>\n",
       "      <td>29.0</td>\n",
       "      <td>1500000.0</td>\n",
       "      <td>100.0</td>\n",
       "    </tr>\n",
       "    <tr>\n",
       "      <th>7</th>\n",
       "      <td>31.0</td>\n",
       "      <td>55000.0</td>\n",
       "      <td>4.0</td>\n",
       "    </tr>\n",
       "    <tr>\n",
       "      <th>8</th>\n",
       "      <td>27.0</td>\n",
       "      <td>58000.0</td>\n",
       "      <td>5.0</td>\n",
       "    </tr>\n",
       "    <tr>\n",
       "      <th>9</th>\n",
       "      <td>26.0</td>\n",
       "      <td>59000.0</td>\n",
       "      <td>3.0</td>\n",
       "    </tr>\n",
       "  </tbody>\n",
       "</table>\n",
       "</div>"
      ],
      "text/plain": [
       "     age     salary  experience\n",
       "0   25.0    50000.0         2.0\n",
       "1   28.0    55000.0         3.0\n",
       "2   30.0    60000.0         4.0\n",
       "3   22.0    48000.0         1.0\n",
       "4   27.0    52000.0         3.0\n",
       "5  999.0    51000.0         2.0\n",
       "6   29.0  1500000.0       100.0\n",
       "7   31.0    55000.0         4.0\n",
       "8   27.0    58000.0         5.0\n",
       "9   26.0    59000.0         3.0"
      ]
     },
     "execution_count": 136,
     "metadata": {},
     "output_type": "execute_result"
    }
   ],
   "source": [
    "df[\"age\"]=df[\"age\"].apply(lambda x: x if x>0 else abs(x) )\n",
    "df\n"
   ]
  },
  {
   "cell_type": "code",
   "execution_count": 138,
   "id": "2de230b6",
   "metadata": {},
   "outputs": [
    {
     "data": {
      "text/plain": [
       "<matplotlib.collections.PathCollection at 0x25c47b831a0>"
      ]
     },
     "execution_count": 138,
     "metadata": {},
     "output_type": "execute_result"
    },
    {
     "data": {
      "image/png": "[encoded data removed]",
      "text/plain": [
       "<Figure size 640x480 with 1 Axes>"
      ]
     },
     "metadata": {},
     "output_type": "display_data"
    }
   ],
   "source": [
    "plt.scatter(df.index,df[\"experience\"])"
   ]
  },
  {
   "cell_type": "code",
   "execution_count": 139,
   "id": "efc03973",
   "metadata": {},
   "outputs": [
    {
     "data": {
      "text/plain": [
       "<Axes: ylabel='experience'>"
      ]
     },
     "execution_count": 139,
     "metadata": {},
     "output_type": "execute_result"
    },
    {
     "data": {
      "image/png": "[encoded data removed]",
      "text/plain": [
       "<Figure size 640x480 with 1 Axes>"
      ]
     },
     "metadata": {},
     "output_type": "display_data"
    }
   ],
   "source": [
    "sns.boxplot(df[\"experience\"])"
   ]
  },
  {
   "cell_type": "code",
   "execution_count": 148,
   "id": "622c3a6c",
   "metadata": {},
   "outputs": [
    {
     "name": "stdout",
     "output_type": "stream",
     "text": [
      "0    0.367437\n",
      "1    0.333097\n",
      "2    0.298757\n",
      "3    0.401777\n",
      "4    0.333097\n",
      "5    0.367437\n",
      "6    2.997877\n",
      "7    0.298757\n",
      "8    0.264418\n",
      "9    0.333097\n",
      "Name: experience, dtype: float64\n"
     ]
    }
   ],
   "source": [
    "from scipy import stats\n",
    "\n",
    "z_score= np.abs(stats.zscore(df[\"experience\"]))\n",
    "print(z_score)\n",
    "\n",
    "\n"
   ]
  },
  {
   "cell_type": "code",
   "execution_count": 151,
   "id": "d884229f",
   "metadata": {},
   "outputs": [
    {
     "data": {
      "text/html": [
       "<div>\n",
       "<style scoped>\n",
       "    .dataframe tbody tr th:only-of-type {\n",
       "        vertical-align: middle;\n",
       "    }\n",
       "\n",
       "    .dataframe tbody tr th {\n",
       "        vertical-align: top;\n",
       "    }\n",
       "\n",
       "    .dataframe thead th {\n",
       "        text-align: right;\n",
       "    }\n",
       "</style>\n",
       "<table border=\"1\" class=\"dataframe\">\n",
       "  <thead>\n",
       "    <tr style=\"text-align: right;\">\n",
       "      <th></th>\n",
       "      <th>age</th>\n",
       "      <th>salary</th>\n",
       "      <th>experience</th>\n",
       "    </tr>\n",
       "  </thead>\n",
       "  <tbody>\n",
       "    <tr>\n",
       "      <th>6</th>\n",
       "      <td>29.0</td>\n",
       "      <td>1500000.0</td>\n",
       "      <td>100.0</td>\n",
       "    </tr>\n",
       "  </tbody>\n",
       "</table>\n",
       "</div>"
      ],
      "text/plain": [
       "    age     salary  experience\n",
       "6  29.0  1500000.0       100.0"
      ]
     },
     "execution_count": 151,
     "metadata": {},
     "output_type": "execute_result"
    }
   ],
   "source": [
    "outliers= df[(z_score>2)]\n",
    "outliers\n"
   ]
  },
  {
   "cell_type": "code",
   "execution_count": 152,
   "id": "69922921",
   "metadata": {},
   "outputs": [
    {
     "name": "stdout",
     "output_type": "stream",
     "text": [
      "   experience     edulvl       city  salary\n",
      "0           1  Bachelors    Chennai   30000\n",
      "1           3    Masters     Mumbai   45000\n",
      "2           5        PhD      Delhi   70000\n",
      "3           2  Bachelors  Bangalore   35000\n",
      "4           7    Masters  Hyderabad   60000\n",
      "5          10        PhD    Chennai   95000\n",
      "6           4  Bachelors       Pune   40000\n",
      "7           6    Masters      Delhi   50000\n",
      "8           8        PhD     Mumbai   85000\n",
      "9           3  Bachelors  Bangalore   38000\n"
     ]
    }
   ],
   "source": [
    "import pandas as pd\n",
    "\n",
    "data = {\n",
    "    'experience': [1, 3, 5, 2, 7, 10, 4, 6, 8, 3],\n",
    "    'edulvl': ['Bachelors', 'Masters', 'PhD', 'Bachelors', 'Masters', 'PhD', 'Bachelors', 'Masters', 'PhD', 'Bachelors'],\n",
    "    'city': ['Chennai', 'Mumbai', 'Delhi', 'Bangalore', 'Hyderabad', 'Chennai', 'Pune', 'Delhi', 'Mumbai', 'Bangalore'],\n",
    "    'salary': [30000, 45000, 70000, 35000, 60000, 95000, 40000, 50000, 85000, 38000]\n",
    "}\n",
    "\n",
    "df = pd.DataFrame(data)\n",
    "print(df)\n"
   ]
  },
  {
   "cell_type": "code",
   "execution_count": 153,
   "id": "9b856959",
   "metadata": {},
   "outputs": [
    {
     "name": "stdout",
     "output_type": "stream",
     "text": [
      "   experience  salary  edulvl_Masters  edulvl_PhD  city_Chennai  city_Delhi  \\\n",
      "0           1   30000           False       False          True       False   \n",
      "1           3   45000            True       False         False       False   \n",
      "2           5   70000           False        True         False        True   \n",
      "3           2   35000           False       False         False       False   \n",
      "4           7   60000            True       False         False       False   \n",
      "5          10   95000           False        True          True       False   \n",
      "6           4   40000           False       False         False       False   \n",
      "7           6   50000            True       False         False        True   \n",
      "8           8   85000           False        True         False       False   \n",
      "9           3   38000           False       False         False       False   \n",
      "\n",
      "   city_Hyderabad  city_Mumbai  city_Pune  \n",
      "0           False        False      False  \n",
      "1           False         True      False  \n",
      "2           False        False      False  \n",
      "3           False        False      False  \n",
      "4            True        False      False  \n",
      "5           False        False      False  \n",
      "6           False        False       True  \n",
      "7           False        False      False  \n",
      "8           False         True      False  \n",
      "9           False        False      False  \n"
     ]
    }
   ],
   "source": [
    "df_enc= pd.get_dummies(df, drop_first=True)\n",
    "print(df_enc)\n"
   ]
  },
  {
   "cell_type": "code",
   "execution_count": 155,
   "id": "bca19400",
   "metadata": {},
   "outputs": [
    {
     "data": {
      "text/plain": [
       "experience        2.163956\n",
       "edulvl_Masters    0.610864\n",
       "edulvl_PhD        0.610864\n",
       "city_Chennai      0.500402\n",
       "city_Delhi        0.500402\n",
       "city_Hyderabad    0.325083\n",
       "city_Mumbai       0.500402\n",
       "city_Pune         0.325083\n",
       "dtype: float64"
      ]
     },
     "execution_count": 155,
     "metadata": {},
     "output_type": "execute_result"
    }
   ],
   "source": [
    "from sklearn.feature_selection import mutual_info_classif\n",
    "y= df_enc[\"salary\"]\n",
    "x= df_enc.drop(\"salary\",axis=1)\n",
    "mi= mutual_info_classif(x,y,discrete_features=True)\n",
    "op= pd.Series(mi,index=x.columns)\n",
    "op"
   ]
  },
  {
   "cell_type": "code",
   "execution_count": 157,
   "id": "6524a23e",
   "metadata": {},
   "outputs": [
    {
     "data": {
      "text/html": [
       "<div>\n",
       "<style scoped>\n",
       "    .dataframe tbody tr th:only-of-type {\n",
       "        vertical-align: middle;\n",
       "    }\n",
       "\n",
       "    .dataframe tbody tr th {\n",
       "        vertical-align: top;\n",
       "    }\n",
       "\n",
       "    .dataframe thead th {\n",
       "        text-align: right;\n",
       "    }\n",
       "</style>\n",
       "<table border=\"1\" class=\"dataframe\">\n",
       "  <thead>\n",
       "    <tr style=\"text-align: right;\">\n",
       "      <th></th>\n",
       "      <th>PC1</th>\n",
       "      <th>PC2</th>\n",
       "    </tr>\n",
       "  </thead>\n",
       "  <tbody>\n",
       "    <tr>\n",
       "      <th>0</th>\n",
       "      <td>-3.904571</td>\n",
       "      <td>-0.602467</td>\n",
       "    </tr>\n",
       "    <tr>\n",
       "      <th>1</th>\n",
       "      <td>-1.902727</td>\n",
       "      <td>0.715654</td>\n",
       "    </tr>\n",
       "    <tr>\n",
       "      <th>2</th>\n",
       "      <td>0.179662</td>\n",
       "      <td>-0.384150</td>\n",
       "    </tr>\n",
       "    <tr>\n",
       "      <th>3</th>\n",
       "      <td>-2.928916</td>\n",
       "      <td>-0.175229</td>\n",
       "    </tr>\n",
       "    <tr>\n",
       "      <th>4</th>\n",
       "      <td>2.077860</td>\n",
       "      <td>1.004746</td>\n",
       "    </tr>\n",
       "  </tbody>\n",
       "</table>\n",
       "</div>"
      ],
      "text/plain": [
       "        PC1       PC2\n",
       "0 -3.904571 -0.602467\n",
       "1 -1.902727  0.715654\n",
       "2  0.179662 -0.384150\n",
       "3 -2.928916 -0.175229\n",
       "4  2.077860  1.004746"
      ]
     },
     "execution_count": 157,
     "metadata": {},
     "output_type": "execute_result"
    }
   ],
   "source": [
    "from sklearn.decomposition import PCA\n",
    "pca= PCA(n_components=2)\n",
    "x_scaled=pca.fit_transform(x)\n",
    "df_pca= pd.DataFrame(data=x_scaled,columns=[\"PC1\",\"PC2\"])\n",
    "df_pca.head()\n",
    "\n"
   ]
  },
  {
   "cell_type": "code",
   "execution_count": 160,
   "id": "ea15ba9e",
   "metadata": {},
   "outputs": [
    {
     "data": {
      "text/plain": [
       "0    jr\n",
       "1    sr\n",
       "2    sr\n",
       "3    jr\n",
       "4    sr\n",
       "5    sr\n",
       "6    sr\n",
       "7    sr\n",
       "8    sr\n",
       "9    sr\n",
       "Name: exp, dtype: object"
      ]
     },
     "execution_count": 160,
     "metadata": {},
     "output_type": "execute_result"
    }
   ],
   "source": [
    "def category(x):\n",
    "    if x<3:\n",
    "        return \"jr\"\n",
    "    else:\n",
    "        return \"sr\"\n",
    "df[\"exp\"]=df[\"experience\"].apply(category)\n",
    "df[\"exp\"]"
   ]
  },
  {
   "cell_type": "code",
   "execution_count": null,
   "id": "c967b0c3",
   "metadata": {},
   "outputs": [],
   "source": []
  }
 ],
 "metadata": {
  "kernelspec": {
   "display_name": "base",
   "language": "python",
   "name": "python3"
  },
  "language_info": {
   "codemirror_mode": {
    "name": "ipython",
    "version": 3
   },
   "file_extension": ".py",
   "mimetype": "text/x-python",
   "name": "python",
   "nbconvert_exporter": "python",
   "pygments_lexer": "ipython3",
   "version": "3.12.3"
  }
 },
 "nbformat": 4,
 "nbformat_minor": 5
}
